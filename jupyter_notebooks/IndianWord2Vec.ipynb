{
 "cells": [
  {
   "cell_type": "markdown",
   "metadata": {},
   "source": [
    "# Indian Food word2vec"
   ]
  },
  {
   "cell_type": "code",
   "execution_count": 2,
   "metadata": {},
   "outputs": [],
   "source": [
    "import gensim"
   ]
  },
  {
   "cell_type": "code",
   "execution_count": 3,
   "metadata": {},
   "outputs": [],
   "source": [
    "import pandas as pd\n",
    "import numpy as np\n",
    "from matplotlib import pyplot as plt\n",
    "plt.style.use('ggplot')"
   ]
  },
  {
   "cell_type": "code",
   "execution_count": 29,
   "metadata": {},
   "outputs": [],
   "source": [
    "from nltk.tokenize import word_tokenize"
   ]
  },
  {
   "cell_type": "code",
   "execution_count": 30,
   "metadata": {},
   "outputs": [],
   "source": [
    "df = pd.read_csv('/Users/jralston/git_proj/Scrapy_project_yelp/yelp/yelp_indian.csv')"
   ]
  },
  {
   "cell_type": "code",
   "execution_count": 31,
   "metadata": {},
   "outputs": [],
   "source": [
    "reviews_list = list(df.text)"
   ]
  },
  {
   "cell_type": "code",
   "execution_count": 38,
   "metadata": {},
   "outputs": [
    {
     "data": {
      "text/plain": [
       "'Very pleased with my gdine purchase and great lunch. Junoon is a beautiful restaurant (unlike other Indian restaurants that over-kill the place with cheap Indian handicrafts and motifs). The decor is very elegant. The place is over-sized or probably there were just a few tables filled during our lunch at 2 PM. Our server was nice and she waited on us with a smile (she could have been a little friendlier but thats alright). We were a party of four and we each got to order an appetizer, entree, and dessert. Appetizers we ordered were great (especially paneer pakoras and the chicken tikka). For main course we ordered the Murgh lababdar, Patiala goat, Murgh Korma, Lotus root kofte, and an extra cauliflower and spinach dish. While all of the non-vegetarian items were fantastic, the vegetarian items were just okay. We expected the kofte to be very flavorful but we felt as if something was a miss with that one. The cauliflower was actually nice and not very spiced up which is good as you get to taste the vegetables as well. The two chicken and one goat dish was excellent. The goat was cooked very tender in a spicy yet flavorful curry. Similarly the korma and lababdar were top notch too and each had their own unique flavor. For dessert, we got the kulfi trio (paan, mango, and kesar pista), chocolate cake with hazelnut, and coconut rice pudding with ginger ice cream. Kulfis and rice pudding was delicious. Would certainly look forward to come again.'"
      ]
     },
     "execution_count": 38,
     "metadata": {},
     "output_type": "execute_result"
    }
   ],
   "source": [
    "reviews_list[0]"
   ]
  },
  {
   "cell_type": "code",
   "execution_count": 34,
   "metadata": {},
   "outputs": [],
   "source": [
    "sentences = [word_tokenize(x) for x in reviews_list]"
   ]
  },
  {
   "cell_type": "code",
   "execution_count": 37,
   "metadata": {},
   "outputs": [
    {
     "data": {
      "text/plain": [
       "[['Very',\n",
       "  'pleased',\n",
       "  'with',\n",
       "  'my',\n",
       "  'gdine',\n",
       "  'purchase',\n",
       "  'and',\n",
       "  'great',\n",
       "  'lunch',\n",
       "  '.',\n",
       "  'Junoon',\n",
       "  'is',\n",
       "  'a',\n",
       "  'beautiful',\n",
       "  'restaurant',\n",
       "  '(',\n",
       "  'unlike',\n",
       "  'other',\n",
       "  'Indian',\n",
       "  'restaurants',\n",
       "  'that',\n",
       "  'over-kill',\n",
       "  'the',\n",
       "  'place',\n",
       "  'with',\n",
       "  'cheap',\n",
       "  'Indian',\n",
       "  'handicrafts',\n",
       "  'and',\n",
       "  'motifs',\n",
       "  ')',\n",
       "  '.',\n",
       "  'The',\n",
       "  'decor',\n",
       "  'is',\n",
       "  'very',\n",
       "  'elegant',\n",
       "  '.',\n",
       "  'The',\n",
       "  'place',\n",
       "  'is',\n",
       "  'over-sized',\n",
       "  'or',\n",
       "  'probably',\n",
       "  'there',\n",
       "  'were',\n",
       "  'just',\n",
       "  'a',\n",
       "  'few',\n",
       "  'tables',\n",
       "  'filled',\n",
       "  'during',\n",
       "  'our',\n",
       "  'lunch',\n",
       "  'at',\n",
       "  '2',\n",
       "  'PM',\n",
       "  '.',\n",
       "  'Our',\n",
       "  'server',\n",
       "  'was',\n",
       "  'nice',\n",
       "  'and',\n",
       "  'she',\n",
       "  'waited',\n",
       "  'on',\n",
       "  'us',\n",
       "  'with',\n",
       "  'a',\n",
       "  'smile',\n",
       "  '(',\n",
       "  'she',\n",
       "  'could',\n",
       "  'have',\n",
       "  'been',\n",
       "  'a',\n",
       "  'little',\n",
       "  'friendlier',\n",
       "  'but',\n",
       "  'thats',\n",
       "  'alright',\n",
       "  ')',\n",
       "  '.',\n",
       "  'We',\n",
       "  'were',\n",
       "  'a',\n",
       "  'party',\n",
       "  'of',\n",
       "  'four',\n",
       "  'and',\n",
       "  'we',\n",
       "  'each',\n",
       "  'got',\n",
       "  'to',\n",
       "  'order',\n",
       "  'an',\n",
       "  'appetizer',\n",
       "  ',',\n",
       "  'entree',\n",
       "  ',',\n",
       "  'and',\n",
       "  'dessert',\n",
       "  '.',\n",
       "  'Appetizers',\n",
       "  'we',\n",
       "  'ordered',\n",
       "  'were',\n",
       "  'great',\n",
       "  '(',\n",
       "  'especially',\n",
       "  'paneer',\n",
       "  'pakoras',\n",
       "  'and',\n",
       "  'the',\n",
       "  'chicken',\n",
       "  'tikka',\n",
       "  ')',\n",
       "  '.',\n",
       "  'For',\n",
       "  'main',\n",
       "  'course',\n",
       "  'we',\n",
       "  'ordered',\n",
       "  'the',\n",
       "  'Murgh',\n",
       "  'lababdar',\n",
       "  ',',\n",
       "  'Patiala',\n",
       "  'goat',\n",
       "  ',',\n",
       "  'Murgh',\n",
       "  'Korma',\n",
       "  ',',\n",
       "  'Lotus',\n",
       "  'root',\n",
       "  'kofte',\n",
       "  ',',\n",
       "  'and',\n",
       "  'an',\n",
       "  'extra',\n",
       "  'cauliflower',\n",
       "  'and',\n",
       "  'spinach',\n",
       "  'dish',\n",
       "  '.',\n",
       "  'While',\n",
       "  'all',\n",
       "  'of',\n",
       "  'the',\n",
       "  'non-vegetarian',\n",
       "  'items',\n",
       "  'were',\n",
       "  'fantastic',\n",
       "  ',',\n",
       "  'the',\n",
       "  'vegetarian',\n",
       "  'items',\n",
       "  'were',\n",
       "  'just',\n",
       "  'okay',\n",
       "  '.',\n",
       "  'We',\n",
       "  'expected',\n",
       "  'the',\n",
       "  'kofte',\n",
       "  'to',\n",
       "  'be',\n",
       "  'very',\n",
       "  'flavorful',\n",
       "  'but',\n",
       "  'we',\n",
       "  'felt',\n",
       "  'as',\n",
       "  'if',\n",
       "  'something',\n",
       "  'was',\n",
       "  'a',\n",
       "  'miss',\n",
       "  'with',\n",
       "  'that',\n",
       "  'one',\n",
       "  '.',\n",
       "  'The',\n",
       "  'cauliflower',\n",
       "  'was',\n",
       "  'actually',\n",
       "  'nice',\n",
       "  'and',\n",
       "  'not',\n",
       "  'very',\n",
       "  'spiced',\n",
       "  'up',\n",
       "  'which',\n",
       "  'is',\n",
       "  'good',\n",
       "  'as',\n",
       "  'you',\n",
       "  'get',\n",
       "  'to',\n",
       "  'taste',\n",
       "  'the',\n",
       "  'vegetables',\n",
       "  'as',\n",
       "  'well',\n",
       "  '.',\n",
       "  'The',\n",
       "  'two',\n",
       "  'chicken',\n",
       "  'and',\n",
       "  'one',\n",
       "  'goat',\n",
       "  'dish',\n",
       "  'was',\n",
       "  'excellent',\n",
       "  '.',\n",
       "  'The',\n",
       "  'goat',\n",
       "  'was',\n",
       "  'cooked',\n",
       "  'very',\n",
       "  'tender',\n",
       "  'in',\n",
       "  'a',\n",
       "  'spicy',\n",
       "  'yet',\n",
       "  'flavorful',\n",
       "  'curry',\n",
       "  '.',\n",
       "  'Similarly',\n",
       "  'the',\n",
       "  'korma',\n",
       "  'and',\n",
       "  'lababdar',\n",
       "  'were',\n",
       "  'top',\n",
       "  'notch',\n",
       "  'too',\n",
       "  'and',\n",
       "  'each',\n",
       "  'had',\n",
       "  'their',\n",
       "  'own',\n",
       "  'unique',\n",
       "  'flavor',\n",
       "  '.',\n",
       "  'For',\n",
       "  'dessert',\n",
       "  ',',\n",
       "  'we',\n",
       "  'got',\n",
       "  'the',\n",
       "  'kulfi',\n",
       "  'trio',\n",
       "  '(',\n",
       "  'paan',\n",
       "  ',',\n",
       "  'mango',\n",
       "  ',',\n",
       "  'and',\n",
       "  'kesar',\n",
       "  'pista',\n",
       "  ')',\n",
       "  ',',\n",
       "  'chocolate',\n",
       "  'cake',\n",
       "  'with',\n",
       "  'hazelnut',\n",
       "  ',',\n",
       "  'and',\n",
       "  'coconut',\n",
       "  'rice',\n",
       "  'pudding',\n",
       "  'with',\n",
       "  'ginger',\n",
       "  'ice',\n",
       "  'cream',\n",
       "  '.',\n",
       "  'Kulfis',\n",
       "  'and',\n",
       "  'rice',\n",
       "  'pudding',\n",
       "  'was',\n",
       "  'delicious',\n",
       "  '.',\n",
       "  'Would',\n",
       "  'certainly',\n",
       "  'look',\n",
       "  'forward',\n",
       "  'to',\n",
       "  'come',\n",
       "  'again',\n",
       "  '.']]"
      ]
     },
     "execution_count": 37,
     "metadata": {},
     "output_type": "execute_result"
    }
   ],
   "source": [
    "sentences[:1]"
   ]
  },
  {
   "cell_type": "code",
   "execution_count": 39,
   "metadata": {},
   "outputs": [
    {
     "data": {
      "text/plain": [
       "54566"
      ]
     },
     "execution_count": 39,
     "metadata": {},
     "output_type": "execute_result"
    }
   ],
   "source": [
    "len(sentences)"
   ]
  },
  {
   "cell_type": "code",
   "execution_count": 10,
   "metadata": {},
   "outputs": [
    {
     "data": {
      "text/plain": [
       "54566"
      ]
     },
     "execution_count": 10,
     "metadata": {},
     "output_type": "execute_result"
    }
   ],
   "source": [
    "len(reviews_list)"
   ]
  },
  {
   "cell_type": "code",
   "execution_count": 40,
   "metadata": {},
   "outputs": [],
   "source": [
    "model = gensim.models.Word2Vec(sentences, size=100, window=5, min_count=5, workers=4)"
   ]
  },
  {
   "cell_type": "code",
   "execution_count": 52,
   "metadata": {},
   "outputs": [],
   "source": [
    "word_vectors = model.wv\n",
    "del model"
   ]
  },
  {
   "cell_type": "code",
   "execution_count": 53,
   "metadata": {},
   "outputs": [
    {
     "ename": "NameError",
     "evalue": "name 'model' is not defined",
     "output_type": "error",
     "traceback": [
      "\u001b[0;31m-------------------------------------------------------------\u001b[0m",
      "\u001b[0;31mNameError\u001b[0m                   Traceback (most recent call last)",
      "\u001b[0;32m<ipython-input-53-a0483fa99fc9>\u001b[0m in \u001b[0;36m<module>\u001b[0;34m()\u001b[0m\n\u001b[0;32m----> 1\u001b[0;31m \u001b[0mdir\u001b[0m\u001b[0;34m(\u001b[0m\u001b[0mmodel\u001b[0m\u001b[0;34m)\u001b[0m\u001b[0;34m\u001b[0m\u001b[0m\n\u001b[0m",
      "\u001b[0;31mNameError\u001b[0m: name 'model' is not defined"
     ]
    }
   ],
   "source": [
    "dir(model)"
   ]
  },
  {
   "cell_type": "code",
   "execution_count": 87,
   "metadata": {
    "scrolled": true
   },
   "outputs": [
    {
     "data": {
      "text/plain": [
       "[('pakora', 0.7911877036094666),\n",
       " ('samosas', 0.7534912824630737),\n",
       " ('chaat', 0.7341939210891724),\n",
       " ('starter', 0.7303506731987),\n",
       " ('aloo', 0.7189912796020508),\n",
       " ('dumplings', 0.7011014223098755),\n",
       " ('papri', 0.6999832391738892),\n",
       " ('daal', 0.6964874863624573),\n",
       " ('pancake', 0.6945468187332153),\n",
       " ('calamari', 0.69310063123703)]"
      ]
     },
     "execution_count": 87,
     "metadata": {},
     "output_type": "execute_result"
    }
   ],
   "source": [
    "word_vectors.most_similar('samosa')"
   ]
  },
  {
   "cell_type": "code",
   "execution_count": 76,
   "metadata": {},
   "outputs": [
    {
     "data": {
      "text/plain": [
       "[('sugar', 0.6170685291290283),\n",
       " ('apologies', 0.6130384802818298),\n",
       " ('liquor', 0.5783859491348267),\n",
       " ('water', 0.5732266902923584),\n",
       " ('refills', 0.5726416707038879),\n",
       " ('apology', 0.5689458847045898),\n",
       " ('corkage', 0.5647621750831604),\n",
       " ('utensils', 0.5635772347450256),\n",
       " ('worries', 0.5454909205436707),\n",
       " ('milk', 0.5413290858268738)]"
      ]
     },
     "execution_count": 76,
     "metadata": {},
     "output_type": "execute_result"
    }
   ],
   "source": [
    "word_vectors.most_similar('alcohol')"
   ]
  },
  {
   "cell_type": "code",
   "execution_count": 77,
   "metadata": {},
   "outputs": [
    {
     "data": {
      "text/plain": [
       "[('pakora', 0.7911877036094666),\n",
       " ('samosas', 0.7534912824630737),\n",
       " ('chaat', 0.7341939210891724),\n",
       " ('starter', 0.7303506731987),\n",
       " ('aloo', 0.7189912796020508),\n",
       " ('dumplings', 0.7011014223098755),\n",
       " ('papri', 0.6999832391738892),\n",
       " ('daal', 0.6964874863624573),\n",
       " ('pancake', 0.6945468187332153),\n",
       " ('calamari', 0.69310063123703)]"
      ]
     },
     "execution_count": 77,
     "metadata": {},
     "output_type": "execute_result"
    }
   ],
   "source": [
    "word_vectors.most_similar('samosa')"
   ]
  },
  {
   "cell_type": "code",
   "execution_count": 78,
   "metadata": {
    "scrolled": false
   },
   "outputs": [
    {
     "data": {
      "text/plain": [
       "[('service.', 0.806687593460083),\n",
       " ('Service', 0.7929139733314514),\n",
       " ('staff', 0.671544075012207),\n",
       " ('waitstaff', 0.6548738479614258),\n",
       " ('services', 0.646259069442749),\n",
       " ('ambience', 0.6380552053451538),\n",
       " ('ambiance', 0.607309103012085),\n",
       " ('Staff', 0.5924296975135803),\n",
       " ('atmosphere', 0.5892812609672546),\n",
       " ('decor', 0.5709953308105469)]"
      ]
     },
     "execution_count": 78,
     "metadata": {},
     "output_type": "execute_result"
    }
   ],
   "source": [
    "word_vectors.most_similar('service')"
   ]
  },
  {
   "cell_type": "code",
   "execution_count": 79,
   "metadata": {},
   "outputs": [
    {
     "data": {
      "text/plain": [
       "[('good.', 0.7969886064529419),\n",
       " ('decent', 0.7946576476097107),\n",
       " ('great', 0.7878842949867249),\n",
       " ('tasty', 0.7860325574874878),\n",
       " ('good..', 0.7501688003540039),\n",
       " ('yummy', 0.7408604025840759),\n",
       " ('solid', 0.7395645976066589),\n",
       " ('alright', 0.710888683795929),\n",
       " ('fantastic', 0.7027899622917175),\n",
       " ('impressive', 0.68814617395401)]"
      ]
     },
     "execution_count": 79,
     "metadata": {},
     "output_type": "execute_result"
    }
   ],
   "source": [
    "word_vectors.most_similar('good')"
   ]
  },
  {
   "cell_type": "code",
   "execution_count": 80,
   "metadata": {},
   "outputs": [
    {
     "data": {
      "text/plain": [
       "0.22249093156714"
      ]
     },
     "execution_count": 80,
     "metadata": {},
     "output_type": "execute_result"
    }
   ],
   "source": [
    "word_vectors.similarity('samosa', 'good')"
   ]
  },
  {
   "cell_type": "code",
   "execution_count": 81,
   "metadata": {},
   "outputs": [
    {
     "data": {
      "text/plain": [
       "-0.005852655049689361"
      ]
     },
     "execution_count": 81,
     "metadata": {},
     "output_type": "execute_result"
    }
   ],
   "source": [
    "word_vectors.similarity('samosa', 'bad')"
   ]
  },
  {
   "cell_type": "code",
   "execution_count": 82,
   "metadata": {
    "scrolled": true
   },
   "outputs": [
    {
     "data": {
      "text/plain": [
       "0.5553681749975853"
      ]
     },
     "execution_count": 82,
     "metadata": {},
     "output_type": "execute_result"
    }
   ],
   "source": [
    "word_vectors.similarity('masala', 'samosa')"
   ]
  },
  {
   "cell_type": "code",
   "execution_count": null,
   "metadata": {},
   "outputs": [],
   "source": []
  },
  {
   "cell_type": "code",
   "execution_count": 69,
   "metadata": {},
   "outputs": [
    {
     "data": {
      "text/plain": [
       "-0.005852655049689361"
      ]
     },
     "execution_count": 69,
     "metadata": {},
     "output_type": "execute_result"
    }
   ],
   "source": [
    "word_vectors.similarity('samosa', 'bad')"
   ]
  },
  {
   "cell_type": "code",
   "execution_count": 61,
   "metadata": {
    "scrolled": true
   },
   "outputs": [
    {
     "data": {
      "text/plain": [
       "0.07340654617904332"
      ]
     },
     "execution_count": 61,
     "metadata": {},
     "output_type": "execute_result"
    }
   ],
   "source": [
    "word_vectors.similarity('masala', 'bad')"
   ]
  },
  {
   "cell_type": "code",
   "execution_count": null,
   "metadata": {},
   "outputs": [],
   "source": []
  },
  {
   "cell_type": "code",
   "execution_count": 83,
   "metadata": {},
   "outputs": [],
   "source": [
    "from sklearn.manifold import TSNE"
   ]
  },
  {
   "cell_type": "code",
   "execution_count": null,
   "metadata": {},
   "outputs": [],
   "source": []
  }
 ],
 "metadata": {
  "kernelspec": {
   "display_name": "Python 3",
   "language": "python",
   "name": "python3"
  }
 },
 "nbformat": 4,
 "nbformat_minor": 2
}
