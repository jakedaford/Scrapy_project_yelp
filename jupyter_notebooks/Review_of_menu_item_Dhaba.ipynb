{
 "cells": [
  {
   "cell_type": "code",
   "execution_count": 142,
   "metadata": {},
   "outputs": [],
   "source": [
    "import pandas as pd\n",
    "import numpy as np\n",
    "from matplotlib import pyplot as plt\n",
    "plt.style.use('ggplot')\n",
    "import re"
   ]
  },
  {
   "cell_type": "code",
   "execution_count": 143,
   "metadata": {},
   "outputs": [],
   "source": [
    "#read in indian yelp reviews\n",
    "df = pd.read_csv('/Users/jralston/git_proj/Scrapy_project_yelp/yelp/yelp_indian.csv')\n",
    "\n",
    "#restrict to Dhaba\n",
    "df = df[df.restaurant == 'Dhaba Indian Cuisine']"
   ]
  },
  {
   "cell_type": "code",
   "execution_count": 148,
   "metadata": {},
   "outputs": [],
   "source": [
    "sample_menu = ['mulligatawny', 'onion pakora', 'samosa', 'paneer pakora',\n",
    "              'lasuni gobi', 'aloo tikki chaat', 'murgh', \n",
    "              'tikka', 'chicken tikka masala', 'rogan josh',\n",
    "              'naan', 'garlic naan', 'poori', 'korma', 'chutney']"
   ]
  },
  {
   "cell_type": "markdown",
   "metadata": {},
   "source": [
    "## Dish Reviews Based on Yelp Review"
   ]
  },
  {
   "cell_type": "code",
   "execution_count": 164,
   "metadata": {},
   "outputs": [],
   "source": [
    "#just grab rating and review text\n",
    "df = df[['rating', 'text']]\n",
    "\n",
    "#switch to lower case\n",
    "df.text = df.text.apply(lambda x: x.lower())"
   ]
  },
  {
   "cell_type": "code",
   "execution_count": 165,
   "metadata": {},
   "outputs": [],
   "source": [
    "# this returns just those reviews that have the word\n",
    "# in the text of the review\n",
    "def subset_reviews(word, df):\n",
    "    return df[df.text.str.contains(word)]\n",
    "\n",
    "# return avg rating of revies that contain dish\n",
    "def avg_review_of_dish(item, df):\n",
    "    return subset_reviews(item, df).mean()\n",
    "\n",
    "# return nuber of times dishes reviewed\n",
    "def dish_count(item, df):\n",
    "    return subset_reviews(item, df).shape[0]"
   ]
  },
  {
   "cell_type": "code",
   "execution_count": 166,
   "metadata": {},
   "outputs": [],
   "source": [
    "# create the dish review dataframe\n",
    "dish_ratings = [avg_review_of_dish(item, df)[0] for item in sample_menu]\n",
    "dish_counts = [dish_count(item, df) for item in sample_menu]\n",
    "data = {'dish' : sample_menu,\n",
    "       'rating' : dish_ratings,\n",
    "       'times reviewed': dish_counts}\n",
    "dish_df = pd.DataFrame(data)"
   ]
  },
  {
   "cell_type": "code",
   "execution_count": 167,
   "metadata": {
    "scrolled": true
   },
   "outputs": [
    {
     "data": {
      "text/html": [
       "<div>\n",
       "<style scoped>\n",
       "    .dataframe tbody tr th:only-of-type {\n",
       "        vertical-align: middle;\n",
       "    }\n",
       "\n",
       "    .dataframe tbody tr th {\n",
       "        vertical-align: top;\n",
       "    }\n",
       "\n",
       "    .dataframe thead th {\n",
       "        text-align: right;\n",
       "    }\n",
       "</style>\n",
       "<table border=\"1\" class=\"dataframe\">\n",
       "  <thead>\n",
       "    <tr style=\"text-align: right;\">\n",
       "      <th></th>\n",
       "      <th>dish</th>\n",
       "      <th>rating</th>\n",
       "      <th>times reviewed</th>\n",
       "    </tr>\n",
       "  </thead>\n",
       "  <tbody>\n",
       "    <tr>\n",
       "      <th>1</th>\n",
       "      <td>onion pakora</td>\n",
       "      <td>4.500000</td>\n",
       "      <td>2</td>\n",
       "    </tr>\n",
       "    <tr>\n",
       "      <th>12</th>\n",
       "      <td>poori</td>\n",
       "      <td>4.272727</td>\n",
       "      <td>11</td>\n",
       "    </tr>\n",
       "    <tr>\n",
       "      <th>0</th>\n",
       "      <td>mulligatawny</td>\n",
       "      <td>4.222222</td>\n",
       "      <td>9</td>\n",
       "    </tr>\n",
       "    <tr>\n",
       "      <th>13</th>\n",
       "      <td>korma</td>\n",
       "      <td>4.214286</td>\n",
       "      <td>56</td>\n",
       "    </tr>\n",
       "    <tr>\n",
       "      <th>6</th>\n",
       "      <td>murgh</td>\n",
       "      <td>4.205882</td>\n",
       "      <td>34</td>\n",
       "    </tr>\n",
       "    <tr>\n",
       "      <th>3</th>\n",
       "      <td>paneer pakora</td>\n",
       "      <td>4.111111</td>\n",
       "      <td>9</td>\n",
       "    </tr>\n",
       "    <tr>\n",
       "      <th>7</th>\n",
       "      <td>tikka</td>\n",
       "      <td>4.007143</td>\n",
       "      <td>280</td>\n",
       "    </tr>\n",
       "    <tr>\n",
       "      <th>4</th>\n",
       "      <td>lasuni gobi</td>\n",
       "      <td>4.000000</td>\n",
       "      <td>1</td>\n",
       "    </tr>\n",
       "    <tr>\n",
       "      <th>8</th>\n",
       "      <td>chicken tikka masala</td>\n",
       "      <td>3.978261</td>\n",
       "      <td>184</td>\n",
       "    </tr>\n",
       "    <tr>\n",
       "      <th>11</th>\n",
       "      <td>garlic naan</td>\n",
       "      <td>3.962617</td>\n",
       "      <td>107</td>\n",
       "    </tr>\n",
       "    <tr>\n",
       "      <th>10</th>\n",
       "      <td>naan</td>\n",
       "      <td>3.901532</td>\n",
       "      <td>457</td>\n",
       "    </tr>\n",
       "    <tr>\n",
       "      <th>14</th>\n",
       "      <td>chutney</td>\n",
       "      <td>3.781818</td>\n",
       "      <td>55</td>\n",
       "    </tr>\n",
       "    <tr>\n",
       "      <th>2</th>\n",
       "      <td>samosa</td>\n",
       "      <td>3.760000</td>\n",
       "      <td>75</td>\n",
       "    </tr>\n",
       "    <tr>\n",
       "      <th>9</th>\n",
       "      <td>rogan josh</td>\n",
       "      <td>3.722222</td>\n",
       "      <td>18</td>\n",
       "    </tr>\n",
       "    <tr>\n",
       "      <th>5</th>\n",
       "      <td>aloo tikki chaat</td>\n",
       "      <td>3.285714</td>\n",
       "      <td>7</td>\n",
       "    </tr>\n",
       "  </tbody>\n",
       "</table>\n",
       "</div>"
      ],
      "text/plain": [
       "                    dish    rating  times reviewed\n",
       "1           onion pakora  4.500000               2\n",
       "12                 poori  4.272727              11\n",
       "0           mulligatawny  4.222222               9\n",
       "13                 korma  4.214286              56\n",
       "6                  murgh  4.205882              34\n",
       "3          paneer pakora  4.111111               9\n",
       "7                  tikka  4.007143             280\n",
       "4            lasuni gobi  4.000000               1\n",
       "8   chicken tikka masala  3.978261             184\n",
       "11           garlic naan  3.962617             107\n",
       "10                  naan  3.901532             457\n",
       "14               chutney  3.781818              55\n",
       "2                 samosa  3.760000              75\n",
       "9             rogan josh  3.722222              18\n",
       "5       aloo tikki chaat  3.285714               7"
      ]
     },
     "execution_count": 167,
     "metadata": {},
     "output_type": "execute_result"
    }
   ],
   "source": [
    "# dish review dataframe\n",
    "dish_df.sort_values(by = 'rating', ascending=False)"
   ]
  },
  {
   "cell_type": "markdown",
   "metadata": {},
   "source": [
    "## Dish Review Based on Sentiment of Yelp Review"
   ]
  },
  {
   "cell_type": "code",
   "execution_count": 162,
   "metadata": {},
   "outputs": [
    {
     "name": "stderr",
     "output_type": "stream",
     "text": [
      "/anaconda3/lib/python3.6/site-packages/pandas/core/generic.py:3643: SettingWithCopyWarning: \n",
      "A value is trying to be set on a copy of a slice from a DataFrame.\n",
      "Try using .loc[row_indexer,col_indexer] = value instead\n",
      "\n",
      "See the caveats in the documentation: http://pandas.pydata.org/pandas-docs/stable/indexing.html#indexing-view-versus-copy\n",
      "  self[name] = value\n"
     ]
    }
   ],
   "source": [
    "# create sentiment df which is text, polarity of text\n",
    "\n",
    "from textblob import TextBlob\n",
    "df_sentiment = df[['text']]\n",
    "df_sentiment.text = df_sentiment.text.apply(lambda x: x.lower())\n",
    "df_sentiment['polarity'] = df_sentiment.text.apply(lambda x: TextBlob(x).sentiment.polarity)"
   ]
  },
  {
   "cell_type": "code",
   "execution_count": 173,
   "metadata": {},
   "outputs": [],
   "source": [
    "# this returns just those reviews that have the word\n",
    "# in the text of the review\n",
    "def subset_reviews(word, df):\n",
    "    return df[df.text.str.contains(word)]\n",
    "\n",
    "# return avg rating of revies that contain dish\n",
    "def avg_review_of_dish(item, df):\n",
    "    return subset_reviews(item, df).mean()\n",
    "\n",
    "# return nuber of times dishes reviewed\n",
    "def dish_count(item, df):\n",
    "    return subset_reviews(item, df).shape[0]"
   ]
  },
  {
   "cell_type": "code",
   "execution_count": 200,
   "metadata": {},
   "outputs": [
    {
     "data": {
      "text/html": [
       "<div>\n",
       "<style scoped>\n",
       "    .dataframe tbody tr th:only-of-type {\n",
       "        vertical-align: middle;\n",
       "    }\n",
       "\n",
       "    .dataframe tbody tr th {\n",
       "        vertical-align: top;\n",
       "    }\n",
       "\n",
       "    .dataframe thead th {\n",
       "        text-align: right;\n",
       "    }\n",
       "</style>\n",
       "<table border=\"1\" class=\"dataframe\">\n",
       "  <thead>\n",
       "    <tr style=\"text-align: right;\">\n",
       "      <th></th>\n",
       "      <th>dish</th>\n",
       "      <th>rating</th>\n",
       "      <th>times reviewed</th>\n",
       "    </tr>\n",
       "  </thead>\n",
       "  <tbody>\n",
       "    <tr>\n",
       "      <th>0</th>\n",
       "      <td>mulligatawny</td>\n",
       "      <td>0.401777</td>\n",
       "      <td>9</td>\n",
       "    </tr>\n",
       "    <tr>\n",
       "      <th>4</th>\n",
       "      <td>lasuni gobi</td>\n",
       "      <td>0.389722</td>\n",
       "      <td>1</td>\n",
       "    </tr>\n",
       "    <tr>\n",
       "      <th>1</th>\n",
       "      <td>onion pakora</td>\n",
       "      <td>0.358581</td>\n",
       "      <td>2</td>\n",
       "    </tr>\n",
       "    <tr>\n",
       "      <th>12</th>\n",
       "      <td>poori</td>\n",
       "      <td>0.253794</td>\n",
       "      <td>11</td>\n",
       "    </tr>\n",
       "    <tr>\n",
       "      <th>6</th>\n",
       "      <td>murgh</td>\n",
       "      <td>0.225904</td>\n",
       "      <td>34</td>\n",
       "    </tr>\n",
       "    <tr>\n",
       "      <th>13</th>\n",
       "      <td>korma</td>\n",
       "      <td>0.216392</td>\n",
       "      <td>56</td>\n",
       "    </tr>\n",
       "    <tr>\n",
       "      <th>14</th>\n",
       "      <td>chutney</td>\n",
       "      <td>0.204518</td>\n",
       "      <td>55</td>\n",
       "    </tr>\n",
       "    <tr>\n",
       "      <th>11</th>\n",
       "      <td>garlic naan</td>\n",
       "      <td>0.198310</td>\n",
       "      <td>107</td>\n",
       "    </tr>\n",
       "    <tr>\n",
       "      <th>10</th>\n",
       "      <td>naan</td>\n",
       "      <td>0.197663</td>\n",
       "      <td>457</td>\n",
       "    </tr>\n",
       "    <tr>\n",
       "      <th>2</th>\n",
       "      <td>samosa</td>\n",
       "      <td>0.196692</td>\n",
       "      <td>75</td>\n",
       "    </tr>\n",
       "    <tr>\n",
       "      <th>3</th>\n",
       "      <td>paneer pakora</td>\n",
       "      <td>0.193666</td>\n",
       "      <td>9</td>\n",
       "    </tr>\n",
       "    <tr>\n",
       "      <th>7</th>\n",
       "      <td>tikka</td>\n",
       "      <td>0.179101</td>\n",
       "      <td>280</td>\n",
       "    </tr>\n",
       "    <tr>\n",
       "      <th>8</th>\n",
       "      <td>chicken tikka masala</td>\n",
       "      <td>0.168270</td>\n",
       "      <td>184</td>\n",
       "    </tr>\n",
       "    <tr>\n",
       "      <th>9</th>\n",
       "      <td>rogan josh</td>\n",
       "      <td>0.143056</td>\n",
       "      <td>18</td>\n",
       "    </tr>\n",
       "    <tr>\n",
       "      <th>5</th>\n",
       "      <td>aloo tikki chaat</td>\n",
       "      <td>0.137074</td>\n",
       "      <td>7</td>\n",
       "    </tr>\n",
       "  </tbody>\n",
       "</table>\n",
       "</div>"
      ],
      "text/plain": [
       "                    dish    rating  times reviewed\n",
       "0           mulligatawny  0.401777               9\n",
       "4            lasuni gobi  0.389722               1\n",
       "1           onion pakora  0.358581               2\n",
       "12                 poori  0.253794              11\n",
       "6                  murgh  0.225904              34\n",
       "13                 korma  0.216392              56\n",
       "14               chutney  0.204518              55\n",
       "11           garlic naan  0.198310             107\n",
       "10                  naan  0.197663             457\n",
       "2                 samosa  0.196692              75\n",
       "3          paneer pakora  0.193666               9\n",
       "7                  tikka  0.179101             280\n",
       "8   chicken tikka masala  0.168270             184\n",
       "9             rogan josh  0.143056              18\n",
       "5       aloo tikki chaat  0.137074               7"
      ]
     },
     "execution_count": 200,
     "metadata": {},
     "output_type": "execute_result"
    }
   ],
   "source": [
    "# create the dish review dataframe\n",
    "dish_ratings = [avg_review_of_dish(item, df_sentiment)[0] for item in sample_menu]\n",
    "dish_counts = [dish_count(item, df_sentiment) for item in sample_menu]\n",
    "data = {'dish' : sample_menu,\n",
    "       'rating' : dish_ratings,\n",
    "       'times reviewed': dish_counts}\n",
    "dish_sentiment_df = pd.DataFrame(data)\n",
    "\n",
    "\n",
    "dish_sentiment_df.sort_values(by = 'rating', ascending=False)"
   ]
  },
  {
   "cell_type": "markdown",
   "metadata": {},
   "source": [
    "# Dish Review Based on Sentiment of Yelp Sentence"
   ]
  },
  {
   "cell_type": "markdown",
   "metadata": {},
   "source": [
    "### First need to split reviews into sentences"
   ]
  },
  {
   "cell_type": "code",
   "execution_count": 208,
   "metadata": {},
   "outputs": [],
   "source": [
    "# split the reviews into sentecnes\n",
    "reviews_sentences = ''.join(list(df.text)).split('.')\n",
    "\n",
    "# create a dataframe with these sentences\n",
    "data = {'text' : reviews_sentences}\n",
    "sentences_df = pd.DataFrame(data)\n",
    "sentences_df.text = sentences_df.text.apply(lambda x: x.lower())\n",
    "\n",
    "# create column which is polarity of text\n",
    "from textblob import TextBlob\n",
    "sentences_df['polarity'] = sentences_df.text.apply(lambda x: TextBlob(x).sentiment.polarity)"
   ]
  },
  {
   "cell_type": "code",
   "execution_count": 209,
   "metadata": {},
   "outputs": [],
   "source": [
    "# this returns just those reviews that have the word\n",
    "# in the text of the review\n",
    "def subset_reviews(word, df):\n",
    "    return df[df.text.str.contains(word)]\n",
    "\n",
    "# return avg rating of revies that contain dish\n",
    "def avg_review_of_dish(item, df):\n",
    "    return subset_reviews(item, df).mean()\n",
    "\n",
    "# return nuber of times dishes reviewed\n",
    "def dish_count(item, df):\n",
    "    return subset_reviews(item, df).shape[0]"
   ]
  },
  {
   "cell_type": "code",
   "execution_count": 210,
   "metadata": {},
   "outputs": [
    {
     "data": {
      "text/html": [
       "<div>\n",
       "<style scoped>\n",
       "    .dataframe tbody tr th:only-of-type {\n",
       "        vertical-align: middle;\n",
       "    }\n",
       "\n",
       "    .dataframe tbody tr th {\n",
       "        vertical-align: top;\n",
       "    }\n",
       "\n",
       "    .dataframe thead th {\n",
       "        text-align: right;\n",
       "    }\n",
       "</style>\n",
       "<table border=\"1\" class=\"dataframe\">\n",
       "  <thead>\n",
       "    <tr style=\"text-align: right;\">\n",
       "      <th></th>\n",
       "      <th>dish</th>\n",
       "      <th>rating</th>\n",
       "      <th>times mentioned</th>\n",
       "    </tr>\n",
       "  </thead>\n",
       "  <tbody>\n",
       "    <tr>\n",
       "      <th>0</th>\n",
       "      <td>mulligatawny</td>\n",
       "      <td>0.679250</td>\n",
       "      <td>10</td>\n",
       "    </tr>\n",
       "    <tr>\n",
       "      <th>1</th>\n",
       "      <td>onion pakora</td>\n",
       "      <td>0.500000</td>\n",
       "      <td>2</td>\n",
       "    </tr>\n",
       "    <tr>\n",
       "      <th>14</th>\n",
       "      <td>chutney</td>\n",
       "      <td>0.253841</td>\n",
       "      <td>67</td>\n",
       "    </tr>\n",
       "    <tr>\n",
       "      <th>11</th>\n",
       "      <td>garlic naan</td>\n",
       "      <td>0.170734</td>\n",
       "      <td>116</td>\n",
       "    </tr>\n",
       "    <tr>\n",
       "      <th>10</th>\n",
       "      <td>naan</td>\n",
       "      <td>0.158930</td>\n",
       "      <td>565</td>\n",
       "    </tr>\n",
       "    <tr>\n",
       "      <th>2</th>\n",
       "      <td>samosa</td>\n",
       "      <td>0.120317</td>\n",
       "      <td>88</td>\n",
       "    </tr>\n",
       "    <tr>\n",
       "      <th>12</th>\n",
       "      <td>poori</td>\n",
       "      <td>0.063136</td>\n",
       "      <td>11</td>\n",
       "    </tr>\n",
       "    <tr>\n",
       "      <th>13</th>\n",
       "      <td>korma</td>\n",
       "      <td>0.039150</td>\n",
       "      <td>63</td>\n",
       "    </tr>\n",
       "    <tr>\n",
       "      <th>6</th>\n",
       "      <td>murgh</td>\n",
       "      <td>0.012909</td>\n",
       "      <td>37</td>\n",
       "    </tr>\n",
       "    <tr>\n",
       "      <th>3</th>\n",
       "      <td>paneer pakora</td>\n",
       "      <td>0.007540</td>\n",
       "      <td>9</td>\n",
       "    </tr>\n",
       "    <tr>\n",
       "      <th>5</th>\n",
       "      <td>aloo tikki chaat</td>\n",
       "      <td>0.005065</td>\n",
       "      <td>9</td>\n",
       "    </tr>\n",
       "    <tr>\n",
       "      <th>4</th>\n",
       "      <td>lasuni gobi</td>\n",
       "      <td>0.000000</td>\n",
       "      <td>1</td>\n",
       "    </tr>\n",
       "    <tr>\n",
       "      <th>9</th>\n",
       "      <td>rogan josh</td>\n",
       "      <td>-0.026310</td>\n",
       "      <td>21</td>\n",
       "    </tr>\n",
       "    <tr>\n",
       "      <th>7</th>\n",
       "      <td>tikka</td>\n",
       "      <td>-0.095006</td>\n",
       "      <td>331</td>\n",
       "    </tr>\n",
       "    <tr>\n",
       "      <th>8</th>\n",
       "      <td>chicken tikka masala</td>\n",
       "      <td>-0.179428</td>\n",
       "      <td>199</td>\n",
       "    </tr>\n",
       "  </tbody>\n",
       "</table>\n",
       "</div>"
      ],
      "text/plain": [
       "                    dish    rating  times mentioned\n",
       "0           mulligatawny  0.679250               10\n",
       "1           onion pakora  0.500000                2\n",
       "14               chutney  0.253841               67\n",
       "11           garlic naan  0.170734              116\n",
       "10                  naan  0.158930              565\n",
       "2                 samosa  0.120317               88\n",
       "12                 poori  0.063136               11\n",
       "13                 korma  0.039150               63\n",
       "6                  murgh  0.012909               37\n",
       "3          paneer pakora  0.007540                9\n",
       "5       aloo tikki chaat  0.005065                9\n",
       "4            lasuni gobi  0.000000                1\n",
       "9             rogan josh -0.026310               21\n",
       "7                  tikka -0.095006              331\n",
       "8   chicken tikka masala -0.179428              199"
      ]
     },
     "execution_count": 210,
     "metadata": {},
     "output_type": "execute_result"
    }
   ],
   "source": [
    "# create the dish review dataframe\n",
    "dish_ratings = [avg_review_of_dish(item, sentences_df)[0] for item in sample_menu]\n",
    "dish_counts = [dish_count(item, sentences_df) for item in sample_menu]\n",
    "data = {'dish' : sample_menu,\n",
    "       'rating' : dish_ratings,\n",
    "       'times mentioned': dish_counts}\n",
    "sentences_df = pd.DataFrame(data)\n",
    "\n",
    "\n",
    "sentences_df.sort_values(by = 'rating', ascending=False)"
   ]
  },
  {
   "cell_type": "code",
   "execution_count": 204,
   "metadata": {},
   "outputs": [
    {
     "data": {
      "text/html": [
       "<div>\n",
       "<style scoped>\n",
       "    .dataframe tbody tr th:only-of-type {\n",
       "        vertical-align: middle;\n",
       "    }\n",
       "\n",
       "    .dataframe tbody tr th {\n",
       "        vertical-align: top;\n",
       "    }\n",
       "\n",
       "    .dataframe thead th {\n",
       "        text-align: right;\n",
       "    }\n",
       "</style>\n",
       "<table border=\"1\" class=\"dataframe\">\n",
       "  <thead>\n",
       "    <tr style=\"text-align: right;\">\n",
       "      <th></th>\n",
       "      <th>text</th>\n",
       "      <th>polarity</th>\n",
       "    </tr>\n",
       "  </thead>\n",
       "  <tbody>\n",
       "    <tr>\n",
       "      <th>0</th>\n",
       "      <td>we love love love dhaba, the gobi and chicken ...</td>\n",
       "      <td>0.458333</td>\n",
       "    </tr>\n",
       "    <tr>\n",
       "      <th>1</th>\n",
       "      <td>the food is so good, all my friends go there now</td>\n",
       "      <td>0.700000</td>\n",
       "    </tr>\n",
       "    <tr>\n",
       "      <th>2</th>\n",
       "      <td>the manager is wonderful and very accomodating</td>\n",
       "      <td>0.600000</td>\n",
       "    </tr>\n",
       "    <tr>\n",
       "      <th>3</th>\n",
       "      <td>have been going there since the start!! thank...</td>\n",
       "      <td>-0.200000</td>\n",
       "    </tr>\n",
       "    <tr>\n",
       "      <th>4</th>\n",
       "      <td>maybe this place really does have good punja...</td>\n",
       "      <td>0.378571</td>\n",
       "    </tr>\n",
       "  </tbody>\n",
       "</table>\n",
       "</div>"
      ],
      "text/plain": [
       "                                                text  polarity\n",
       "0  we love love love dhaba, the gobi and chicken ...  0.458333\n",
       "1   the food is so good, all my friends go there now  0.700000\n",
       "2     the manager is wonderful and very accomodating  0.600000\n",
       "3   have been going there since the start!! thank... -0.200000\n",
       "4    maybe this place really does have good punja...  0.378571"
      ]
     },
     "execution_count": 204,
     "metadata": {},
     "output_type": "execute_result"
    }
   ],
   "source": [
    "sentences_df.head()"
   ]
  },
  {
   "cell_type": "code",
   "execution_count": 234,
   "metadata": {},
   "outputs": [
    {
     "data": {
      "text/html": [
       "<div>\n",
       "<style scoped>\n",
       "    .dataframe tbody tr th:only-of-type {\n",
       "        vertical-align: middle;\n",
       "    }\n",
       "\n",
       "    .dataframe tbody tr th {\n",
       "        vertical-align: top;\n",
       "    }\n",
       "\n",
       "    .dataframe thead th {\n",
       "        text-align: right;\n",
       "    }\n",
       "</style>\n",
       "<table border=\"1\" class=\"dataframe\">\n",
       "  <thead>\n",
       "    <tr style=\"text-align: right;\">\n",
       "      <th></th>\n",
       "      <th>dish</th>\n",
       "      <th>rating</th>\n",
       "      <th>times mentioned</th>\n",
       "    </tr>\n",
       "  </thead>\n",
       "  <tbody>\n",
       "    <tr>\n",
       "      <th>0</th>\n",
       "      <td>mulligatawny</td>\n",
       "      <td>0.679250</td>\n",
       "      <td>10</td>\n",
       "    </tr>\n",
       "    <tr>\n",
       "      <th>1</th>\n",
       "      <td>onion pakora</td>\n",
       "      <td>0.500000</td>\n",
       "      <td>2</td>\n",
       "    </tr>\n",
       "    <tr>\n",
       "      <th>2</th>\n",
       "      <td>samosa</td>\n",
       "      <td>0.120317</td>\n",
       "      <td>88</td>\n",
       "    </tr>\n",
       "    <tr>\n",
       "      <th>3</th>\n",
       "      <td>paneer pakora</td>\n",
       "      <td>0.007540</td>\n",
       "      <td>9</td>\n",
       "    </tr>\n",
       "    <tr>\n",
       "      <th>4</th>\n",
       "      <td>lasuni gobi</td>\n",
       "      <td>0.000000</td>\n",
       "      <td>1</td>\n",
       "    </tr>\n",
       "  </tbody>\n",
       "</table>\n",
       "</div>"
      ],
      "text/plain": [
       "            dish    rating  times mentioned\n",
       "0   mulligatawny  0.679250               10\n",
       "1   onion pakora  0.500000                2\n",
       "2         samosa  0.120317               88\n",
       "3  paneer pakora  0.007540                9\n",
       "4    lasuni gobi  0.000000                1"
      ]
     },
     "execution_count": 234,
     "metadata": {},
     "output_type": "execute_result"
    }
   ],
   "source": [
    "sentences_df.head()"
   ]
  },
  {
   "cell_type": "markdown",
   "metadata": {},
   "source": [
    "# Model sentiment from dish and pick best dish"
   ]
  },
  {
   "cell_type": "markdown",
   "metadata": {},
   "source": [
    "### First need to vectorize the sentences... i.e. for each sentence make a vector of 0s and 1s that say whether a dish is mentioned in the sentence or not"
   ]
  },
  {
   "cell_type": "code",
   "execution_count": null,
   "metadata": {},
   "outputs": [],
   "source": [
    "# split the reviews into sentecnes\n",
    "reviews_sentences = ''.join(list(df.text)).split('.')\n",
    "\n",
    "# create a dataframe with these sentences\n",
    "data = {'text' : reviews_sentences}\n",
    "sentences_df = pd.DataFrame(data)\n",
    "sentences_df.text = sentences_df.text.apply(lambda x: x.lower())\n",
    "\n",
    "# create column which is polarity of text\n",
    "from textblob import TextBlob\n",
    "sentences_df['polarity'] = sentences_df.text.apply(lambda x: TextBlob(x).sentiment.polarity)"
   ]
  },
  {
   "cell_type": "code",
   "execution_count": 211,
   "metadata": {},
   "outputs": [],
   "source": [
    "example = 'example sentence with samosa and tikka'"
   ]
  },
  {
   "cell_type": "code",
   "execution_count": 275,
   "metadata": {},
   "outputs": [],
   "source": [
    "def sentence_to_vector(sentence, menu):\n",
    "    return [1*(dish in sentence) for dish in menu]"
   ]
  },
  {
   "cell_type": "code",
   "execution_count": 276,
   "metadata": {},
   "outputs": [
    {
     "data": {
      "text/plain": [
       "[0, 0, 1, 0, 0, 0, 0, 1, 0, 0, 0, 0, 0, 0, 0]"
      ]
     },
     "execution_count": 276,
     "metadata": {},
     "output_type": "execute_result"
    }
   ],
   "source": [
    "sentence_to_vector(example, sample_menu)"
   ]
  },
  {
   "cell_type": "code",
   "execution_count": 277,
   "metadata": {},
   "outputs": [
    {
     "data": {
      "text/plain": [
       "10958"
      ]
     },
     "execution_count": 277,
     "metadata": {},
     "output_type": "execute_result"
    }
   ],
   "source": [
    "# split the reviews into sentecnes\n",
    "reviews_sentences = ''.join(list(df.text)).split('.')\n",
    "len(reviews_sentences)"
   ]
  },
  {
   "cell_type": "code",
   "execution_count": 278,
   "metadata": {},
   "outputs": [],
   "source": [
    "variable_sentences = [sentence_to_vector(sentence, sample_menu) for sentence in reviews_sentences]"
   ]
  },
  {
   "cell_type": "code",
   "execution_count": 279,
   "metadata": {},
   "outputs": [
    {
     "data": {
      "text/plain": [
       "10958"
      ]
     },
     "execution_count": 279,
     "metadata": {},
     "output_type": "execute_result"
    }
   ],
   "source": [
    "len(variable_sentences)"
   ]
  },
  {
   "cell_type": "code",
   "execution_count": 280,
   "metadata": {},
   "outputs": [
    {
     "data": {
      "text/plain": [
       "15"
      ]
     },
     "execution_count": 280,
     "metadata": {},
     "output_type": "execute_result"
    }
   ],
   "source": [
    "len(sample_menu)"
   ]
  },
  {
   "cell_type": "code",
   "execution_count": 281,
   "metadata": {},
   "outputs": [
    {
     "data": {
      "text/plain": [
       "(10958, 15)"
      ]
     },
     "execution_count": 281,
     "metadata": {},
     "output_type": "execute_result"
    }
   ],
   "source": [
    "X = np.matrix(variable_sentences)\n",
    "X.shape"
   ]
  },
  {
   "cell_type": "code",
   "execution_count": 267,
   "metadata": {},
   "outputs": [
    {
     "data": {
      "text/plain": [
       "10958"
      ]
     },
     "execution_count": 267,
     "metadata": {},
     "output_type": "execute_result"
    }
   ],
   "source": [
    "y = [TextBlob(x).sentiment.polarity for x in reviews_sentences]\n",
    "len(y)"
   ]
  },
  {
   "cell_type": "code",
   "execution_count": 268,
   "metadata": {},
   "outputs": [],
   "source": [
    "from sklearn import datasets, linear_model\n",
    "from sklearn.metrics import mean_squared_error, r2_score"
   ]
  },
  {
   "cell_type": "code",
   "execution_count": 282,
   "metadata": {},
   "outputs": [],
   "source": [
    "regr = linear_model.LinearRegression()"
   ]
  },
  {
   "cell_type": "code",
   "execution_count": 283,
   "metadata": {
    "scrolled": true
   },
   "outputs": [
    {
     "data": {
      "text/plain": [
       "LinearRegression(copy_X=True, fit_intercept=True, n_jobs=1, normalize=False)"
      ]
     },
     "execution_count": 283,
     "metadata": {},
     "output_type": "execute_result"
    }
   ],
   "source": [
    "regr.fit(X, y)"
   ]
  },
  {
   "cell_type": "code",
   "execution_count": 284,
   "metadata": {},
   "outputs": [
    {
     "name": "stdout",
     "output_type": "stream",
     "text": [
      "Coefficients: \n",
      " [ 0.53151667  0.34746002 -0.02014995 -0.11686944 -0.15253998 -0.13289955\n",
      " -0.09340149 -0.11969432 -0.21737174 -0.12665306  0.02733276  0.05726216\n",
      " -0.07126847 -0.03857038  0.10538325]\n"
     ]
    }
   ],
   "source": [
    "print('Coefficients: \\n', regr.coef_)"
   ]
  },
  {
   "cell_type": "code",
   "execution_count": 288,
   "metadata": {},
   "outputs": [
    {
     "data": {
      "text/plain": [
       "0.1525399818909162"
      ]
     },
     "execution_count": 288,
     "metadata": {},
     "output_type": "execute_result"
    }
   ],
   "source": [
    "regr.intercept_"
   ]
  },
  {
   "cell_type": "code",
   "execution_count": 285,
   "metadata": {},
   "outputs": [
    {
     "name": "stdout",
     "output_type": "stream",
     "text": [
      "['mulligatawny', 'onion pakora', 'samosa', 'paneer pakora', 'lasuni gobi', 'aloo tikki chaat', 'murgh', 'tikka', 'chicken tikka masala', 'rogan josh', 'naan', 'garlic naan', 'poori', 'korma', 'chutney']\n"
     ]
    }
   ],
   "source": [
    "print(sample_menu)"
   ]
  },
  {
   "cell_type": "code",
   "execution_count": 286,
   "metadata": {},
   "outputs": [
    {
     "data": {
      "text/html": [
       "<div>\n",
       "<style scoped>\n",
       "    .dataframe tbody tr th:only-of-type {\n",
       "        vertical-align: middle;\n",
       "    }\n",
       "\n",
       "    .dataframe tbody tr th {\n",
       "        vertical-align: top;\n",
       "    }\n",
       "\n",
       "    .dataframe thead th {\n",
       "        text-align: right;\n",
       "    }\n",
       "</style>\n",
       "<table border=\"1\" class=\"dataframe\">\n",
       "  <thead>\n",
       "    <tr style=\"text-align: right;\">\n",
       "      <th></th>\n",
       "      <th>coef</th>\n",
       "      <th>dish</th>\n",
       "    </tr>\n",
       "  </thead>\n",
       "  <tbody>\n",
       "    <tr>\n",
       "      <th>0</th>\n",
       "      <td>0.531517</td>\n",
       "      <td>mulligatawny</td>\n",
       "    </tr>\n",
       "    <tr>\n",
       "      <th>1</th>\n",
       "      <td>0.347460</td>\n",
       "      <td>onion pakora</td>\n",
       "    </tr>\n",
       "    <tr>\n",
       "      <th>2</th>\n",
       "      <td>-0.020150</td>\n",
       "      <td>samosa</td>\n",
       "    </tr>\n",
       "    <tr>\n",
       "      <th>3</th>\n",
       "      <td>-0.116869</td>\n",
       "      <td>paneer pakora</td>\n",
       "    </tr>\n",
       "    <tr>\n",
       "      <th>4</th>\n",
       "      <td>-0.152540</td>\n",
       "      <td>lasuni gobi</td>\n",
       "    </tr>\n",
       "    <tr>\n",
       "      <th>5</th>\n",
       "      <td>-0.132900</td>\n",
       "      <td>aloo tikki chaat</td>\n",
       "    </tr>\n",
       "    <tr>\n",
       "      <th>6</th>\n",
       "      <td>-0.093401</td>\n",
       "      <td>murgh</td>\n",
       "    </tr>\n",
       "    <tr>\n",
       "      <th>7</th>\n",
       "      <td>-0.119694</td>\n",
       "      <td>tikka</td>\n",
       "    </tr>\n",
       "    <tr>\n",
       "      <th>8</th>\n",
       "      <td>-0.217372</td>\n",
       "      <td>chicken tikka masala</td>\n",
       "    </tr>\n",
       "    <tr>\n",
       "      <th>9</th>\n",
       "      <td>-0.126653</td>\n",
       "      <td>rogan josh</td>\n",
       "    </tr>\n",
       "    <tr>\n",
       "      <th>10</th>\n",
       "      <td>0.027333</td>\n",
       "      <td>naan</td>\n",
       "    </tr>\n",
       "    <tr>\n",
       "      <th>11</th>\n",
       "      <td>0.057262</td>\n",
       "      <td>garlic naan</td>\n",
       "    </tr>\n",
       "    <tr>\n",
       "      <th>12</th>\n",
       "      <td>-0.071268</td>\n",
       "      <td>poori</td>\n",
       "    </tr>\n",
       "    <tr>\n",
       "      <th>13</th>\n",
       "      <td>-0.038570</td>\n",
       "      <td>korma</td>\n",
       "    </tr>\n",
       "    <tr>\n",
       "      <th>14</th>\n",
       "      <td>0.105383</td>\n",
       "      <td>chutney</td>\n",
       "    </tr>\n",
       "  </tbody>\n",
       "</table>\n",
       "</div>"
      ],
      "text/plain": [
       "        coef                  dish\n",
       "0   0.531517          mulligatawny\n",
       "1   0.347460          onion pakora\n",
       "2  -0.020150                samosa\n",
       "3  -0.116869         paneer pakora\n",
       "4  -0.152540           lasuni gobi\n",
       "5  -0.132900      aloo tikki chaat\n",
       "6  -0.093401                 murgh\n",
       "7  -0.119694                 tikka\n",
       "8  -0.217372  chicken tikka masala\n",
       "9  -0.126653            rogan josh\n",
       "10  0.027333                  naan\n",
       "11  0.057262           garlic naan\n",
       "12 -0.071268                 poori\n",
       "13 -0.038570                 korma\n",
       "14  0.105383               chutney"
      ]
     },
     "execution_count": 286,
     "metadata": {},
     "output_type": "execute_result"
    }
   ],
   "source": [
    "data = {'coef' : regr.coef_,\n",
    "       'dish' : sample_menu}\n",
    "a_df = pd.DataFrame(data)\n",
    "a_df"
   ]
  },
  {
   "cell_type": "code",
   "execution_count": 287,
   "metadata": {},
   "outputs": [
    {
     "data": {
      "text/html": [
       "<div>\n",
       "<style scoped>\n",
       "    .dataframe tbody tr th:only-of-type {\n",
       "        vertical-align: middle;\n",
       "    }\n",
       "\n",
       "    .dataframe tbody tr th {\n",
       "        vertical-align: top;\n",
       "    }\n",
       "\n",
       "    .dataframe thead th {\n",
       "        text-align: right;\n",
       "    }\n",
       "</style>\n",
       "<table border=\"1\" class=\"dataframe\">\n",
       "  <thead>\n",
       "    <tr style=\"text-align: right;\">\n",
       "      <th></th>\n",
       "      <th>coef</th>\n",
       "      <th>dish</th>\n",
       "    </tr>\n",
       "  </thead>\n",
       "  <tbody>\n",
       "    <tr>\n",
       "      <th>8</th>\n",
       "      <td>-0.217372</td>\n",
       "      <td>chicken tikka masala</td>\n",
       "    </tr>\n",
       "    <tr>\n",
       "      <th>4</th>\n",
       "      <td>-0.152540</td>\n",
       "      <td>lasuni gobi</td>\n",
       "    </tr>\n",
       "    <tr>\n",
       "      <th>5</th>\n",
       "      <td>-0.132900</td>\n",
       "      <td>aloo tikki chaat</td>\n",
       "    </tr>\n",
       "    <tr>\n",
       "      <th>9</th>\n",
       "      <td>-0.126653</td>\n",
       "      <td>rogan josh</td>\n",
       "    </tr>\n",
       "    <tr>\n",
       "      <th>7</th>\n",
       "      <td>-0.119694</td>\n",
       "      <td>tikka</td>\n",
       "    </tr>\n",
       "    <tr>\n",
       "      <th>3</th>\n",
       "      <td>-0.116869</td>\n",
       "      <td>paneer pakora</td>\n",
       "    </tr>\n",
       "    <tr>\n",
       "      <th>6</th>\n",
       "      <td>-0.093401</td>\n",
       "      <td>murgh</td>\n",
       "    </tr>\n",
       "    <tr>\n",
       "      <th>12</th>\n",
       "      <td>-0.071268</td>\n",
       "      <td>poori</td>\n",
       "    </tr>\n",
       "    <tr>\n",
       "      <th>13</th>\n",
       "      <td>-0.038570</td>\n",
       "      <td>korma</td>\n",
       "    </tr>\n",
       "    <tr>\n",
       "      <th>2</th>\n",
       "      <td>-0.020150</td>\n",
       "      <td>samosa</td>\n",
       "    </tr>\n",
       "    <tr>\n",
       "      <th>10</th>\n",
       "      <td>0.027333</td>\n",
       "      <td>naan</td>\n",
       "    </tr>\n",
       "    <tr>\n",
       "      <th>11</th>\n",
       "      <td>0.057262</td>\n",
       "      <td>garlic naan</td>\n",
       "    </tr>\n",
       "    <tr>\n",
       "      <th>14</th>\n",
       "      <td>0.105383</td>\n",
       "      <td>chutney</td>\n",
       "    </tr>\n",
       "    <tr>\n",
       "      <th>1</th>\n",
       "      <td>0.347460</td>\n",
       "      <td>onion pakora</td>\n",
       "    </tr>\n",
       "    <tr>\n",
       "      <th>0</th>\n",
       "      <td>0.531517</td>\n",
       "      <td>mulligatawny</td>\n",
       "    </tr>\n",
       "  </tbody>\n",
       "</table>\n",
       "</div>"
      ],
      "text/plain": [
       "        coef                  dish\n",
       "8  -0.217372  chicken tikka masala\n",
       "4  -0.152540           lasuni gobi\n",
       "5  -0.132900      aloo tikki chaat\n",
       "9  -0.126653            rogan josh\n",
       "7  -0.119694                 tikka\n",
       "3  -0.116869         paneer pakora\n",
       "6  -0.093401                 murgh\n",
       "12 -0.071268                 poori\n",
       "13 -0.038570                 korma\n",
       "2  -0.020150                samosa\n",
       "10  0.027333                  naan\n",
       "11  0.057262           garlic naan\n",
       "14  0.105383               chutney\n",
       "1   0.347460          onion pakora\n",
       "0   0.531517          mulligatawny"
      ]
     },
     "execution_count": 287,
     "metadata": {},
     "output_type": "execute_result"
    }
   ],
   "source": [
    "a_df.sort_values('coef')"
   ]
  },
  {
   "cell_type": "code",
   "execution_count": 303,
   "metadata": {},
   "outputs": [
    {
     "data": {
      "text/plain": [
       "Lasso(alpha=1e-05, copy_X=True, fit_intercept=True, max_iter=1000,\n",
       "   normalize=False, positive=False, precompute=False, random_state=None,\n",
       "   selection='cyclic', tol=0.0001, warm_start=False)"
      ]
     },
     "execution_count": 303,
     "metadata": {},
     "output_type": "execute_result"
    }
   ],
   "source": [
    "reg = linear_model.Lasso(alpha = 0.00001)\n",
    "reg.fit(X,y)"
   ]
  },
  {
   "cell_type": "code",
   "execution_count": 304,
   "metadata": {},
   "outputs": [
    {
     "data": {
      "text/plain": [
       "array([ 0.5204674 ,  0.29269704, -0.01859296, -0.10579765, -0.04293298,\n",
       "       -0.12163523, -0.09049454, -0.12019969, -0.21645996, -0.12134035,\n",
       "        0.02716198,  0.05621224, -0.06131842, -0.03717856,  0.10330106])"
      ]
     },
     "execution_count": 304,
     "metadata": {},
     "output_type": "execute_result"
    }
   ],
   "source": [
    "reg.coef_"
   ]
  },
  {
   "cell_type": "code",
   "execution_count": 305,
   "metadata": {},
   "outputs": [
    {
     "data": {
      "text/html": [
       "<div>\n",
       "<style scoped>\n",
       "    .dataframe tbody tr th:only-of-type {\n",
       "        vertical-align: middle;\n",
       "    }\n",
       "\n",
       "    .dataframe tbody tr th {\n",
       "        vertical-align: top;\n",
       "    }\n",
       "\n",
       "    .dataframe thead th {\n",
       "        text-align: right;\n",
       "    }\n",
       "</style>\n",
       "<table border=\"1\" class=\"dataframe\">\n",
       "  <thead>\n",
       "    <tr style=\"text-align: right;\">\n",
       "      <th></th>\n",
       "      <th>coef</th>\n",
       "      <th>dish</th>\n",
       "    </tr>\n",
       "  </thead>\n",
       "  <tbody>\n",
       "    <tr>\n",
       "      <th>8</th>\n",
       "      <td>-0.216460</td>\n",
       "      <td>chicken tikka masala</td>\n",
       "    </tr>\n",
       "    <tr>\n",
       "      <th>5</th>\n",
       "      <td>-0.121635</td>\n",
       "      <td>aloo tikki chaat</td>\n",
       "    </tr>\n",
       "    <tr>\n",
       "      <th>9</th>\n",
       "      <td>-0.121340</td>\n",
       "      <td>rogan josh</td>\n",
       "    </tr>\n",
       "    <tr>\n",
       "      <th>7</th>\n",
       "      <td>-0.120200</td>\n",
       "      <td>tikka</td>\n",
       "    </tr>\n",
       "    <tr>\n",
       "      <th>3</th>\n",
       "      <td>-0.105798</td>\n",
       "      <td>paneer pakora</td>\n",
       "    </tr>\n",
       "    <tr>\n",
       "      <th>6</th>\n",
       "      <td>-0.090495</td>\n",
       "      <td>murgh</td>\n",
       "    </tr>\n",
       "    <tr>\n",
       "      <th>12</th>\n",
       "      <td>-0.061318</td>\n",
       "      <td>poori</td>\n",
       "    </tr>\n",
       "    <tr>\n",
       "      <th>4</th>\n",
       "      <td>-0.042933</td>\n",
       "      <td>lasuni gobi</td>\n",
       "    </tr>\n",
       "    <tr>\n",
       "      <th>13</th>\n",
       "      <td>-0.037179</td>\n",
       "      <td>korma</td>\n",
       "    </tr>\n",
       "    <tr>\n",
       "      <th>2</th>\n",
       "      <td>-0.018593</td>\n",
       "      <td>samosa</td>\n",
       "    </tr>\n",
       "    <tr>\n",
       "      <th>10</th>\n",
       "      <td>0.027162</td>\n",
       "      <td>naan</td>\n",
       "    </tr>\n",
       "    <tr>\n",
       "      <th>11</th>\n",
       "      <td>0.056212</td>\n",
       "      <td>garlic naan</td>\n",
       "    </tr>\n",
       "    <tr>\n",
       "      <th>14</th>\n",
       "      <td>0.103301</td>\n",
       "      <td>chutney</td>\n",
       "    </tr>\n",
       "    <tr>\n",
       "      <th>1</th>\n",
       "      <td>0.292697</td>\n",
       "      <td>onion pakora</td>\n",
       "    </tr>\n",
       "    <tr>\n",
       "      <th>0</th>\n",
       "      <td>0.520467</td>\n",
       "      <td>mulligatawny</td>\n",
       "    </tr>\n",
       "  </tbody>\n",
       "</table>\n",
       "</div>"
      ],
      "text/plain": [
       "        coef                  dish\n",
       "8  -0.216460  chicken tikka masala\n",
       "5  -0.121635      aloo tikki chaat\n",
       "9  -0.121340            rogan josh\n",
       "7  -0.120200                 tikka\n",
       "3  -0.105798         paneer pakora\n",
       "6  -0.090495                 murgh\n",
       "12 -0.061318                 poori\n",
       "4  -0.042933           lasuni gobi\n",
       "13 -0.037179                 korma\n",
       "2  -0.018593                samosa\n",
       "10  0.027162                  naan\n",
       "11  0.056212           garlic naan\n",
       "14  0.103301               chutney\n",
       "1   0.292697          onion pakora\n",
       "0   0.520467          mulligatawny"
      ]
     },
     "execution_count": 305,
     "metadata": {},
     "output_type": "execute_result"
    }
   ],
   "source": [
    "data = {'coef' : reg.coef_,\n",
    "       'dish' : sample_menu}\n",
    "a_df = pd.DataFrame(data)\n",
    "a_df.sort_values('coef')"
   ]
  },
  {
   "cell_type": "code",
   "execution_count": null,
   "metadata": {},
   "outputs": [],
   "source": []
  }
 ],
 "metadata": {
  "kernelspec": {
   "display_name": "Python 3",
   "language": "python",
   "name": "python3"
  },
  "language_info": {
   "codemirror_mode": {
    "name": "ipython",
    "version": 3
   },
   "file_extension": ".py",
   "mimetype": "text/x-python",
   "name": "python",
   "nbconvert_exporter": "python",
   "pygments_lexer": "ipython3",
   "version": "3.6.4"
  }
 },
 "nbformat": 4,
 "nbformat_minor": 2
}
