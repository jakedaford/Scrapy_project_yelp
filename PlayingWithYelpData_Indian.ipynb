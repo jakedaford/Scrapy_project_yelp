{
 "cells": [
  {
   "cell_type": "code",
   "execution_count": 20,
   "metadata": {},
   "outputs": [],
   "source": [
    "%matplotlib inline"
   ]
  },
  {
   "cell_type": "code",
   "execution_count": 21,
   "metadata": {},
   "outputs": [],
   "source": [
    "import pandas as pd\n",
    "import numpy as np\n",
    "from matplotlib import pyplot as plt\n",
    "plt.style.use('ggplot')"
   ]
  },
  {
   "cell_type": "code",
   "execution_count": 98,
   "metadata": {},
   "outputs": [],
   "source": [
    "import seaborn as sns\n",
    "import nltk"
   ]
  },
  {
   "cell_type": "code",
   "execution_count": 2,
   "metadata": {},
   "outputs": [],
   "source": [
    "df_indian = pd.read_csv('/Users/jralston/git_proj/Scrapy_project_yelp/yelp/yelp_indian.csv')"
   ]
  },
  {
   "cell_type": "code",
   "execution_count": 4,
   "metadata": {},
   "outputs": [],
   "source": [
    "df_thai = pd.read_csv('/Users/jralston/git_proj/Scrapy_project_yelp/yelp/yelp_thai.csv')"
   ]
  },
  {
   "cell_type": "code",
   "execution_count": 6,
   "metadata": {},
   "outputs": [
    {
     "data": {
      "text/plain": [
       "(54566, 6)"
      ]
     },
     "execution_count": 6,
     "metadata": {},
     "output_type": "execute_result"
    }
   ],
   "source": [
    "df_indian.shape"
   ]
  },
  {
   "cell_type": "code",
   "execution_count": 7,
   "metadata": {},
   "outputs": [
    {
     "data": {
      "text/plain": [
       "(98358, 6)"
      ]
     },
     "execution_count": 7,
     "metadata": {},
     "output_type": "execute_result"
    }
   ],
   "source": [
    "df_thai.shape"
   ]
  },
  {
   "cell_type": "code",
   "execution_count": 8,
   "metadata": {},
   "outputs": [],
   "source": [
    "df = df_indian"
   ]
  },
  {
   "cell_type": "code",
   "execution_count": 13,
   "metadata": {},
   "outputs": [
    {
     "data": {
      "text/html": [
       "<div>\n",
       "<style scoped>\n",
       "    .dataframe tbody tr th:only-of-type {\n",
       "        vertical-align: middle;\n",
       "    }\n",
       "\n",
       "    .dataframe tbody tr th {\n",
       "        vertical-align: top;\n",
       "    }\n",
       "\n",
       "    .dataframe thead th {\n",
       "        text-align: right;\n",
       "    }\n",
       "</style>\n",
       "<table border=\"1\" class=\"dataframe\">\n",
       "  <thead>\n",
       "    <tr style=\"text-align: right;\">\n",
       "      <th></th>\n",
       "      <th>address</th>\n",
       "      <th>date</th>\n",
       "      <th>price</th>\n",
       "      <th>rating</th>\n",
       "      <th>restaurant</th>\n",
       "      <th>text</th>\n",
       "    </tr>\n",
       "  </thead>\n",
       "  <tbody>\n",
       "    <tr>\n",
       "      <th>0</th>\n",
       "      <td>27 W 24th St, New York, NY 10010</td>\n",
       "      <td>7/6/2012</td>\n",
       "      <td>$$$</td>\n",
       "      <td>4</td>\n",
       "      <td>Junoon</td>\n",
       "      <td>Very pleased with my gdine purchase and great ...</td>\n",
       "    </tr>\n",
       "    <tr>\n",
       "      <th>1</th>\n",
       "      <td>27 W 24th St, New York, NY 10010</td>\n",
       "      <td>1/6/2012</td>\n",
       "      <td>$$$</td>\n",
       "      <td>5</td>\n",
       "      <td>Junoon</td>\n",
       "      <td>so.....amazing!!  this is the best indian food...</td>\n",
       "    </tr>\n",
       "    <tr>\n",
       "      <th>2</th>\n",
       "      <td>27 W 24th St, New York, NY 10010</td>\n",
       "      <td>2/13/2012</td>\n",
       "      <td>$$$</td>\n",
       "      <td>2</td>\n",
       "      <td>Junoon</td>\n",
       "      <td>We went to Junoon expecting a Michelin starred...</td>\n",
       "    </tr>\n",
       "    <tr>\n",
       "      <th>3</th>\n",
       "      <td>320 Park Ave, New York, NY 10020</td>\n",
       "      <td>7/14/2011</td>\n",
       "      <td>$$</td>\n",
       "      <td>1</td>\n",
       "      <td>Just Salad</td>\n",
       "      <td>This place is so cheap with the toppings!  The...</td>\n",
       "    </tr>\n",
       "    <tr>\n",
       "      <th>4</th>\n",
       "      <td>320 Park Ave, New York, NY 10020</td>\n",
       "      <td>3/19/2014</td>\n",
       "      <td>$$</td>\n",
       "      <td>2</td>\n",
       "      <td>Just Salad</td>\n",
       "      <td>I love the salads here. The quality of product...</td>\n",
       "    </tr>\n",
       "  </tbody>\n",
       "</table>\n",
       "</div>"
      ],
      "text/plain": [
       "                            address       date price  rating  restaurant  \\\n",
       "0  27 W 24th St, New York, NY 10010   7/6/2012   $$$       4      Junoon   \n",
       "1  27 W 24th St, New York, NY 10010   1/6/2012   $$$       5      Junoon   \n",
       "2  27 W 24th St, New York, NY 10010  2/13/2012   $$$       2      Junoon   \n",
       "3  320 Park Ave, New York, NY 10020  7/14/2011    $$       1  Just Salad   \n",
       "4  320 Park Ave, New York, NY 10020  3/19/2014    $$       2  Just Salad   \n",
       "\n",
       "                                                text  \n",
       "0  Very pleased with my gdine purchase and great ...  \n",
       "1  so.....amazing!!  this is the best indian food...  \n",
       "2  We went to Junoon expecting a Michelin starred...  \n",
       "3  This place is so cheap with the toppings!  The...  \n",
       "4  I love the salads here. The quality of product...  "
      ]
     },
     "execution_count": 13,
     "metadata": {},
     "output_type": "execute_result"
    }
   ],
   "source": [
    "df.head()"
   ]
  },
  {
   "cell_type": "code",
   "execution_count": 27,
   "metadata": {},
   "outputs": [
    {
     "data": {
      "text/plain": [
       "{dtype('int64'): Index(['rating'], dtype='object'),\n",
       " dtype('O'): Index(['address', 'date', 'price', 'restaurant', 'text'], dtype='object')}"
      ]
     },
     "execution_count": 27,
     "metadata": {},
     "output_type": "execute_result"
    }
   ],
   "source": [
    "df.columns.to_series().groupby(df.dtypes).groups"
   ]
  },
  {
   "cell_type": "code",
   "execution_count": 38,
   "metadata": {
    "scrolled": true
   },
   "outputs": [
    {
     "data": {
      "text/html": [
       "<div>\n",
       "<style scoped>\n",
       "    .dataframe tbody tr th:only-of-type {\n",
       "        vertical-align: middle;\n",
       "    }\n",
       "\n",
       "    .dataframe tbody tr th {\n",
       "        vertical-align: top;\n",
       "    }\n",
       "\n",
       "    .dataframe thead tr th {\n",
       "        text-align: left;\n",
       "    }\n",
       "\n",
       "    .dataframe thead tr:last-of-type th {\n",
       "        text-align: right;\n",
       "    }\n",
       "</style>\n",
       "<table border=\"1\" class=\"dataframe\">\n",
       "  <thead>\n",
       "    <tr>\n",
       "      <th></th>\n",
       "      <th></th>\n",
       "      <th>text</th>\n",
       "      <th colspan=\"2\" halign=\"left\">rating</th>\n",
       "    </tr>\n",
       "    <tr>\n",
       "      <th></th>\n",
       "      <th></th>\n",
       "      <th>count</th>\n",
       "      <th>mean</th>\n",
       "      <th>std</th>\n",
       "    </tr>\n",
       "    <tr>\n",
       "      <th>restaurant</th>\n",
       "      <th>address</th>\n",
       "      <th></th>\n",
       "      <th></th>\n",
       "      <th></th>\n",
       "    </tr>\n",
       "  </thead>\n",
       "  <tbody>\n",
       "    <tr>\n",
       "      <th>The Halal Guys</th>\n",
       "      <th>W 53rd St 6th Ave, New York, NY 10019</th>\n",
       "      <td>8731</td>\n",
       "      <td>4.256901</td>\n",
       "      <td>1.061822</td>\n",
       "    </tr>\n",
       "    <tr>\n",
       "      <th>Friedman’s</th>\n",
       "      <th>132 W 31st St, New York, NY 10001</th>\n",
       "      <td>1675</td>\n",
       "      <td>3.983881</td>\n",
       "      <td>1.106234</td>\n",
       "    </tr>\n",
       "    <tr>\n",
       "      <th>Red Bamboo</th>\n",
       "      <th>140 W 4th St, New York, NY 10012</th>\n",
       "      <td>1517</td>\n",
       "      <td>4.057350</td>\n",
       "      <td>1.069489</td>\n",
       "    </tr>\n",
       "    <tr>\n",
       "      <th>Thai Villa</th>\n",
       "      <th>5 E 19th St, New York, NY 10003</th>\n",
       "      <td>1478</td>\n",
       "      <td>4.340325</td>\n",
       "      <td>0.935936</td>\n",
       "    </tr>\n",
       "    <tr>\n",
       "      <th>Taim West Village</th>\n",
       "      <th>222 Waverly Pl, New York, NY 10014</th>\n",
       "      <td>1404</td>\n",
       "      <td>4.407407</td>\n",
       "      <td>0.879384</td>\n",
       "    </tr>\n",
       "  </tbody>\n",
       "</table>\n",
       "</div>"
      ],
      "text/plain": [
       "                                                         text    rating  \\\n",
       "                                                        count      mean   \n",
       "restaurant        address                                                 \n",
       "The Halal Guys    W 53rd St 6th Ave, New York, NY 10019  8731  4.256901   \n",
       "Friedman’s        132 W 31st St, New York, NY 10001      1675  3.983881   \n",
       "Red Bamboo        140 W 4th St, New York, NY 10012       1517  4.057350   \n",
       "Thai Villa        5 E 19th St, New York, NY 10003        1478  4.340325   \n",
       "Taim West Village 222 Waverly Pl, New York, NY 10014     1404  4.407407   \n",
       "\n",
       "                                                                   \n",
       "                                                              std  \n",
       "restaurant        address                                          \n",
       "The Halal Guys    W 53rd St 6th Ave, New York, NY 10019  1.061822  \n",
       "Friedman’s        132 W 31st St, New York, NY 10001      1.106234  \n",
       "Red Bamboo        140 W 4th St, New York, NY 10012       1.069489  \n",
       "Thai Villa        5 E 19th St, New York, NY 10003        0.935936  \n",
       "Taim West Village 222 Waverly Pl, New York, NY 10014     0.879384  "
      ]
     },
     "execution_count": 38,
     "metadata": {},
     "output_type": "execute_result"
    }
   ],
   "source": [
    "df.groupby(['restaurant', 'address']).agg({'text': ['count'], 'rating': ['mean', 'std']}).\\\n",
    "sort_values(('text', 'count'), ascending = False).head()"
   ]
  },
  {
   "cell_type": "code",
   "execution_count": 79,
   "metadata": {},
   "outputs": [],
   "source": [
    "df_agg = df.groupby(['restaurant', 'address', 'price']).agg({'text': ['count'], 'rating': ['mean', 'std']}).\\\n",
    "sort_values(('text', 'count'), ascending = False)"
   ]
  },
  {
   "cell_type": "code",
   "execution_count": 80,
   "metadata": {},
   "outputs": [
    {
     "data": {
      "text/html": [
       "<div>\n",
       "<style scoped>\n",
       "    .dataframe tbody tr th:only-of-type {\n",
       "        vertical-align: middle;\n",
       "    }\n",
       "\n",
       "    .dataframe tbody tr th {\n",
       "        vertical-align: top;\n",
       "    }\n",
       "\n",
       "    .dataframe thead tr th {\n",
       "        text-align: left;\n",
       "    }\n",
       "\n",
       "    .dataframe thead tr:last-of-type th {\n",
       "        text-align: right;\n",
       "    }\n",
       "</style>\n",
       "<table border=\"1\" class=\"dataframe\">\n",
       "  <thead>\n",
       "    <tr>\n",
       "      <th></th>\n",
       "      <th></th>\n",
       "      <th></th>\n",
       "      <th>text</th>\n",
       "      <th colspan=\"2\" halign=\"left\">rating</th>\n",
       "    </tr>\n",
       "    <tr>\n",
       "      <th></th>\n",
       "      <th></th>\n",
       "      <th></th>\n",
       "      <th>count</th>\n",
       "      <th>mean</th>\n",
       "      <th>std</th>\n",
       "    </tr>\n",
       "    <tr>\n",
       "      <th>restaurant</th>\n",
       "      <th>address</th>\n",
       "      <th>price</th>\n",
       "      <th></th>\n",
       "      <th></th>\n",
       "      <th></th>\n",
       "    </tr>\n",
       "  </thead>\n",
       "  <tbody>\n",
       "    <tr>\n",
       "      <th>The Halal Guys</th>\n",
       "      <th>W 53rd St 6th Ave, New York, NY 10019</th>\n",
       "      <th>$</th>\n",
       "      <td>8731</td>\n",
       "      <td>4.256901</td>\n",
       "      <td>1.061822</td>\n",
       "    </tr>\n",
       "    <tr>\n",
       "      <th>Friedman’s</th>\n",
       "      <th>132 W 31st St, New York, NY 10001</th>\n",
       "      <th>$$</th>\n",
       "      <td>1675</td>\n",
       "      <td>3.983881</td>\n",
       "      <td>1.106234</td>\n",
       "    </tr>\n",
       "    <tr>\n",
       "      <th>Red Bamboo</th>\n",
       "      <th>140 W 4th St, New York, NY 10012</th>\n",
       "      <th>$$</th>\n",
       "      <td>1517</td>\n",
       "      <td>4.057350</td>\n",
       "      <td>1.069489</td>\n",
       "    </tr>\n",
       "    <tr>\n",
       "      <th>Thai Villa</th>\n",
       "      <th>5 E 19th St, New York, NY 10003</th>\n",
       "      <th>$$</th>\n",
       "      <td>1478</td>\n",
       "      <td>4.340325</td>\n",
       "      <td>0.935936</td>\n",
       "    </tr>\n",
       "    <tr>\n",
       "      <th>Taim West Village</th>\n",
       "      <th>222 Waverly Pl, New York, NY 10014</th>\n",
       "      <th>$</th>\n",
       "      <td>1404</td>\n",
       "      <td>4.407407</td>\n",
       "      <td>0.879384</td>\n",
       "    </tr>\n",
       "  </tbody>\n",
       "</table>\n",
       "</div>"
      ],
      "text/plain": [
       "                                                               text    rating  \\\n",
       "                                                              count      mean   \n",
       "restaurant        address                               price                   \n",
       "The Halal Guys    W 53rd St 6th Ave, New York, NY 10019 $      8731  4.256901   \n",
       "Friedman’s        132 W 31st St, New York, NY 10001     $$     1675  3.983881   \n",
       "Red Bamboo        140 W 4th St, New York, NY 10012      $$     1517  4.057350   \n",
       "Thai Villa        5 E 19th St, New York, NY 10003       $$     1478  4.340325   \n",
       "Taim West Village 222 Waverly Pl, New York, NY 10014    $      1404  4.407407   \n",
       "\n",
       "                                                                         \n",
       "                                                                    std  \n",
       "restaurant        address                               price            \n",
       "The Halal Guys    W 53rd St 6th Ave, New York, NY 10019 $      1.061822  \n",
       "Friedman’s        132 W 31st St, New York, NY 10001     $$     1.106234  \n",
       "Red Bamboo        140 W 4th St, New York, NY 10012      $$     1.069489  \n",
       "Thai Villa        5 E 19th St, New York, NY 10003       $$     0.935936  \n",
       "Taim West Village 222 Waverly Pl, New York, NY 10014    $      0.879384  "
      ]
     },
     "execution_count": 80,
     "metadata": {},
     "output_type": "execute_result"
    }
   ],
   "source": [
    "df_agg.head()"
   ]
  },
  {
   "cell_type": "code",
   "execution_count": 81,
   "metadata": {
    "scrolled": true
   },
   "outputs": [
    {
     "data": {
      "text/plain": [
       "(array([11., 10., 13., 18., 14.,  6., 13.,  9., 32., 26.]),\n",
       " array([  0. ,  12.5,  25. ,  37.5,  50. ,  62.5,  75. ,  87.5, 100. ,\n",
       "        112.5, 125. ]),\n",
       " <a list of 10 Patch objects>)"
      ]
     },
     "execution_count": 81,
     "metadata": {},
     "output_type": "execute_result"
    },
    {
     "data": {
      "image/png": "[encoded data removed]",
      "text/plain": [
       "<matplotlib.figure.Figure at 0x116e66048>"
      ]
     },
     "metadata": {},
     "output_type": "display_data"
    }
   ],
   "source": [
    "plt.hist(df_agg[[('text', 'count')]])"
   ]
  },
  {
   "cell_type": "code",
   "execution_count": 1,
   "metadata": {},
   "outputs": [
    {
     "ename": "NameError",
     "evalue": "name 'plt' is not defined",
     "output_type": "error",
     "traceback": [
      "\u001b[0;31m---------------------------------------------------------------------------\u001b[0m",
      "\u001b[0;31mNameError\u001b[0m                                 Traceback (most recent call last)",
      "\u001b[0;32m<ipython-input-1-84c1609e5420>\u001b[0m in \u001b[0;36m<module>\u001b[0;34m()\u001b[0m\n\u001b[0;32m----> 1\u001b[0;31m \u001b[0mplt\u001b[0m\u001b[0;34m.\u001b[0m\u001b[0mhist\u001b[0m\u001b[0;34m(\u001b[0m\u001b[0mdf_agg\u001b[0m\u001b[0;34m[\u001b[0m\u001b[0;34m[\u001b[0m\u001b[0;34m(\u001b[0m\u001b[0;34m'text'\u001b[0m\u001b[0;34m,\u001b[0m \u001b[0;34m'count'\u001b[0m\u001b[0;34m)\u001b[0m\u001b[0;34m]\u001b[0m\u001b[0;34m]\u001b[0m\u001b[0;34m,\u001b[0m \u001b[0mbins\u001b[0m\u001b[0;34m=\u001b[0m\u001b[0;36m100\u001b[0m\u001b[0;34m)\u001b[0m\u001b[0;34m\u001b[0m\u001b[0m\n\u001b[0m",
      "\u001b[0;31mNameError\u001b[0m: name 'plt' is not defined"
     ]
    }
   ],
   "source": [
    "plt.hist(df_agg[[('text', 'count')]], bins=10)"
   ]
  },
  {
   "cell_type": "code",
   "execution_count": 83,
   "metadata": {},
   "outputs": [
    {
     "data": {
      "text/plain": [
       "(array([36., 32., 31., 37., 36.]),\n",
       " array([  0. ,  30.2,  60.4,  90.6, 120.8, 151. ]),\n",
       " <a list of 5 Patch objects>)"
      ]
     },
     "execution_count": 83,
     "metadata": {},
     "output_type": "execute_result"
    },
    {
     "data": {
      "image/png": "[encoded data removed]",
      "text/plain": [
       "<matplotlib.figure.Figure at 0x117146c50>"
      ]
     },
     "metadata": {},
     "output_type": "display_data"
    }
   ],
   "source": [
    "plt.hist(df_counts[[('rating', 'mean')]], bins = 5)"
   ]
  },
  {
   "cell_type": "code",
   "execution_count": 84,
   "metadata": {},
   "outputs": [
    {
     "data": {
      "text/plain": [
       "(array([ 3609.,  3789.,  7103., 16629., 23436.]),\n",
       " array([0. , 0.8, 1.6, 2.4, 3.2, 4. ]),\n",
       " <a list of 5 Patch objects>)"
      ]
     },
     "execution_count": 84,
     "metadata": {},
     "output_type": "execute_result"
    },
    {
     "data": {
      "image/png": "[encoded data removed]",
      "text/plain": [
       "<matplotlib.figure.Figure at 0x1176d3940>"
      ]
     },
     "metadata": {},
     "output_type": "display_data"
    }
   ],
   "source": [
    "plt.hist(df[['rating']], bins = 5)"
   ]
  },
  {
   "cell_type": "code",
   "execution_count": 87,
   "metadata": {},
   "outputs": [
    {
     "data": {
      "text/plain": [
       "(172, 2)"
      ]
     },
     "execution_count": 87,
     "metadata": {},
     "output_type": "execute_result"
    }
   ],
   "source": [
    "df[['restaurant', 'address']].drop_duplicates().shape"
   ]
  },
  {
   "cell_type": "code",
   "execution_count": 88,
   "metadata": {},
   "outputs": [
    {
     "data": {
      "text/plain": [
       "(159, 1)"
      ]
     },
     "execution_count": 88,
     "metadata": {},
     "output_type": "execute_result"
    }
   ],
   "source": [
    "df[['restaurant']].drop_duplicates().shape"
   ]
  },
  {
   "cell_type": "code",
   "execution_count": 89,
   "metadata": {},
   "outputs": [
    {
     "data": {
      "text/html": [
       "<div>\n",
       "<style scoped>\n",
       "    .dataframe tbody tr th:only-of-type {\n",
       "        vertical-align: middle;\n",
       "    }\n",
       "\n",
       "    .dataframe tbody tr th {\n",
       "        vertical-align: top;\n",
       "    }\n",
       "\n",
       "    .dataframe thead tr th {\n",
       "        text-align: left;\n",
       "    }\n",
       "\n",
       "    .dataframe thead tr:last-of-type th {\n",
       "        text-align: right;\n",
       "    }\n",
       "</style>\n",
       "<table border=\"1\" class=\"dataframe\">\n",
       "  <thead>\n",
       "    <tr>\n",
       "      <th></th>\n",
       "      <th></th>\n",
       "      <th>text</th>\n",
       "      <th colspan=\"2\" halign=\"left\">rating</th>\n",
       "    </tr>\n",
       "    <tr>\n",
       "      <th></th>\n",
       "      <th></th>\n",
       "      <th>count</th>\n",
       "      <th>mean</th>\n",
       "      <th>std</th>\n",
       "    </tr>\n",
       "    <tr>\n",
       "      <th>restaurant</th>\n",
       "      <th>address</th>\n",
       "      <th></th>\n",
       "      <th></th>\n",
       "      <th></th>\n",
       "    </tr>\n",
       "  </thead>\n",
       "  <tbody>\n",
       "    <tr>\n",
       "      <th>Indian Accent</th>\n",
       "      <th>123 W 56th St, New York, NY 10019</th>\n",
       "      <td>356</td>\n",
       "      <td>4.280899</td>\n",
       "      <td>1.125767</td>\n",
       "    </tr>\n",
       "  </tbody>\n",
       "</table>\n",
       "</div>"
      ],
      "text/plain": [
       "                                                 text    rating          \n",
       "                                                count      mean       std\n",
       "restaurant    address                                                    \n",
       "Indian Accent 123 W 56th St, New York, NY 10019   356  4.280899  1.125767"
      ]
     },
     "execution_count": 89,
     "metadata": {},
     "output_type": "execute_result"
    }
   ],
   "source": [
    "df.loc[df.price=='$$$$',:].groupby(['restaurant', 'address']).agg({'text': ['count'], 'rating': ['mean', 'std']}).\\\n",
    "sort_values(('text', 'count'), ascending = False)"
   ]
  },
  {
   "cell_type": "code",
   "execution_count": 90,
   "metadata": {},
   "outputs": [
    {
     "data": {
      "text/html": [
       "<div>\n",
       "<style scoped>\n",
       "    .dataframe tbody tr th:only-of-type {\n",
       "        vertical-align: middle;\n",
       "    }\n",
       "\n",
       "    .dataframe tbody tr th {\n",
       "        vertical-align: top;\n",
       "    }\n",
       "\n",
       "    .dataframe thead tr th {\n",
       "        text-align: left;\n",
       "    }\n",
       "\n",
       "    .dataframe thead tr:last-of-type th {\n",
       "        text-align: right;\n",
       "    }\n",
       "</style>\n",
       "<table border=\"1\" class=\"dataframe\">\n",
       "  <thead>\n",
       "    <tr>\n",
       "      <th></th>\n",
       "      <th></th>\n",
       "      <th>text</th>\n",
       "      <th colspan=\"2\" halign=\"left\">rating</th>\n",
       "    </tr>\n",
       "    <tr>\n",
       "      <th></th>\n",
       "      <th></th>\n",
       "      <th>count</th>\n",
       "      <th>mean</th>\n",
       "      <th>std</th>\n",
       "    </tr>\n",
       "    <tr>\n",
       "      <th>restaurant</th>\n",
       "      <th>address</th>\n",
       "      <th></th>\n",
       "      <th></th>\n",
       "      <th></th>\n",
       "    </tr>\n",
       "  </thead>\n",
       "  <tbody>\n",
       "    <tr>\n",
       "      <th>Fig &amp; Olive</th>\n",
       "      <th>420 W 13th St, New York, NY 10014</th>\n",
       "      <td>1213</td>\n",
       "      <td>3.684254</td>\n",
       "      <td>1.131629</td>\n",
       "    </tr>\n",
       "    <tr>\n",
       "      <th>Junoon</th>\n",
       "      <th>27 W 24th St, New York, NY 10010</th>\n",
       "      <td>1183</td>\n",
       "      <td>3.648352</td>\n",
       "      <td>1.305239</td>\n",
       "    </tr>\n",
       "    <tr>\n",
       "      <th>Fig &amp; Olive Fifth Ave</th>\n",
       "      <th>10 E 52nd St, New York, NY 10022</th>\n",
       "      <td>990</td>\n",
       "      <td>3.564646</td>\n",
       "      <td>1.169793</td>\n",
       "    </tr>\n",
       "    <tr>\n",
       "      <th>Hangawi</th>\n",
       "      <th>12 E 32nd St, New York, NY 10016</th>\n",
       "      <td>986</td>\n",
       "      <td>4.066937</td>\n",
       "      <td>1.075610</td>\n",
       "    </tr>\n",
       "    <tr>\n",
       "      <th>Blossom</th>\n",
       "      <th>187 9th Ave, New York, NY 10011</th>\n",
       "      <td>900</td>\n",
       "      <td>4.210000</td>\n",
       "      <td>1.089596</td>\n",
       "    </tr>\n",
       "    <tr>\n",
       "      <th>Vatan Indian Vegetarian</th>\n",
       "      <th>409 3rd Ave, New York, NY 10016</th>\n",
       "      <td>515</td>\n",
       "      <td>3.945631</td>\n",
       "      <td>1.264971</td>\n",
       "    </tr>\n",
       "    <tr>\n",
       "      <th>Amma</th>\n",
       "      <th>246 E 51st St, New York, NY 10022</th>\n",
       "      <td>445</td>\n",
       "      <td>3.766292</td>\n",
       "      <td>1.269616</td>\n",
       "    </tr>\n",
       "    <tr>\n",
       "      <th>Nix</th>\n",
       "      <th>72 University Pl, New York, NY 10003</th>\n",
       "      <td>335</td>\n",
       "      <td>4.050746</td>\n",
       "      <td>1.099996</td>\n",
       "    </tr>\n",
       "    <tr>\n",
       "      <th>ABCV</th>\n",
       "      <th>38 E 19th St, New York, NY 10003</th>\n",
       "      <td>224</td>\n",
       "      <td>3.933036</td>\n",
       "      <td>1.212779</td>\n",
       "    </tr>\n",
       "    <tr>\n",
       "      <th>Rahi</th>\n",
       "      <th>60 Greenwich Ave, New York, NY 10011</th>\n",
       "      <td>187</td>\n",
       "      <td>4.566845</td>\n",
       "      <td>0.842150</td>\n",
       "    </tr>\n",
       "    <tr>\n",
       "      <th>aRoqa</th>\n",
       "      <th>206 9th Ave, New York, NY 10011</th>\n",
       "      <td>131</td>\n",
       "      <td>4.000000</td>\n",
       "      <td>1.430438</td>\n",
       "    </tr>\n",
       "    <tr>\n",
       "      <th>Juice Press</th>\n",
       "      <th>122 Greenwich Ave, New York, NY 10014</th>\n",
       "      <td>60</td>\n",
       "      <td>2.800000</td>\n",
       "      <td>1.644714</td>\n",
       "    </tr>\n",
       "    <tr>\n",
       "      <th>Malika Exclusive Indian Restaurant</th>\n",
       "      <th>210 E 43rd St, New York, NY 10017</th>\n",
       "      <td>2</td>\n",
       "      <td>2.500000</td>\n",
       "      <td>0.707107</td>\n",
       "    </tr>\n",
       "  </tbody>\n",
       "</table>\n",
       "</div>"
      ],
      "text/plain": [
       "                                                                          text  \\\n",
       "                                                                         count   \n",
       "restaurant                         address                                       \n",
       "Fig & Olive                        420 W 13th St, New York, NY 10014      1213   \n",
       "Junoon                             27 W 24th St, New York, NY 10010       1183   \n",
       "Fig & Olive Fifth Ave              10 E 52nd St, New York, NY 10022        990   \n",
       "Hangawi                            12 E 32nd St, New York, NY 10016        986   \n",
       "Blossom                            187 9th Ave, New York, NY 10011         900   \n",
       "Vatan Indian Vegetarian            409 3rd Ave, New York, NY 10016         515   \n",
       "Amma                               246 E 51st St, New York, NY 10022       445   \n",
       "Nix                                72 University Pl, New York, NY 10003    335   \n",
       "ABCV                               38 E 19th St, New York, NY 10003        224   \n",
       "Rahi                               60 Greenwich Ave, New York, NY 10011    187   \n",
       "aRoqa                              206 9th Ave, New York, NY 10011         131   \n",
       "Juice Press                        122 Greenwich Ave, New York, NY 10014    60   \n",
       "Malika Exclusive Indian Restaurant 210 E 43rd St, New York, NY 10017         2   \n",
       "\n",
       "                                                                            rating  \\\n",
       "                                                                              mean   \n",
       "restaurant                         address                                           \n",
       "Fig & Olive                        420 W 13th St, New York, NY 10014      3.684254   \n",
       "Junoon                             27 W 24th St, New York, NY 10010       3.648352   \n",
       "Fig & Olive Fifth Ave              10 E 52nd St, New York, NY 10022       3.564646   \n",
       "Hangawi                            12 E 32nd St, New York, NY 10016       4.066937   \n",
       "Blossom                            187 9th Ave, New York, NY 10011        4.210000   \n",
       "Vatan Indian Vegetarian            409 3rd Ave, New York, NY 10016        3.945631   \n",
       "Amma                               246 E 51st St, New York, NY 10022      3.766292   \n",
       "Nix                                72 University Pl, New York, NY 10003   4.050746   \n",
       "ABCV                               38 E 19th St, New York, NY 10003       3.933036   \n",
       "Rahi                               60 Greenwich Ave, New York, NY 10011   4.566845   \n",
       "aRoqa                              206 9th Ave, New York, NY 10011        4.000000   \n",
       "Juice Press                        122 Greenwich Ave, New York, NY 10014  2.800000   \n",
       "Malika Exclusive Indian Restaurant 210 E 43rd St, New York, NY 10017      2.500000   \n",
       "\n",
       "                                                                                    \n",
       "                                                                               std  \n",
       "restaurant                         address                                          \n",
       "Fig & Olive                        420 W 13th St, New York, NY 10014      1.131629  \n",
       "Junoon                             27 W 24th St, New York, NY 10010       1.305239  \n",
       "Fig & Olive Fifth Ave              10 E 52nd St, New York, NY 10022       1.169793  \n",
       "Hangawi                            12 E 32nd St, New York, NY 10016       1.075610  \n",
       "Blossom                            187 9th Ave, New York, NY 10011        1.089596  \n",
       "Vatan Indian Vegetarian            409 3rd Ave, New York, NY 10016        1.264971  \n",
       "Amma                               246 E 51st St, New York, NY 10022      1.269616  \n",
       "Nix                                72 University Pl, New York, NY 10003   1.099996  \n",
       "ABCV                               38 E 19th St, New York, NY 10003       1.212779  \n",
       "Rahi                               60 Greenwich Ave, New York, NY 10011   0.842150  \n",
       "aRoqa                              206 9th Ave, New York, NY 10011        1.430438  \n",
       "Juice Press                        122 Greenwich Ave, New York, NY 10014  1.644714  \n",
       "Malika Exclusive Indian Restaurant 210 E 43rd St, New York, NY 10017      0.707107  "
      ]
     },
     "execution_count": 90,
     "metadata": {},
     "output_type": "execute_result"
    }
   ],
   "source": [
    "df.loc[df.price=='$$$',:].groupby(['restaurant', 'address']).agg({'text': ['count'], 'rating': ['mean', 'std']}).\\\n",
    "sort_values(('text', 'count'), ascending = False)"
   ]
  },
  {
   "cell_type": "code",
   "execution_count": 94,
   "metadata": {},
   "outputs": [
    {
     "data": {
      "text/plain": [
       "(1, 3)"
      ]
     },
     "execution_count": 94,
     "metadata": {},
     "output_type": "execute_result"
    }
   ],
   "source": [
    "df.loc[df.price=='$$$$',:].groupby(['restaurant', 'address']).agg({'text': ['count'], 'rating': ['mean', 'std']}).\\\n",
    "sort_values(('text', 'count'), ascending = False).shape"
   ]
  },
  {
   "cell_type": "code",
   "execution_count": 93,
   "metadata": {},
   "outputs": [
    {
     "data": {
      "text/plain": [
       "(13, 3)"
      ]
     },
     "execution_count": 93,
     "metadata": {},
     "output_type": "execute_result"
    }
   ],
   "source": [
    "df.loc[df.price=='$$$',:].groupby(['restaurant', 'address']).agg({'text': ['count'], 'rating': ['mean', 'std']}).\\\n",
    "sort_values(('text', 'count'), ascending = False).shape"
   ]
  },
  {
   "cell_type": "code",
   "execution_count": 92,
   "metadata": {},
   "outputs": [
    {
     "data": {
      "text/plain": [
       "(77, 3)"
      ]
     },
     "execution_count": 92,
     "metadata": {},
     "output_type": "execute_result"
    }
   ],
   "source": [
    "df.loc[df.price=='$$',:].groupby(['restaurant', 'address']).agg({'text': ['count'], 'rating': ['mean', 'std']}).\\\n",
    "sort_values(('text', 'count'), ascending = False).shape"
   ]
  },
  {
   "cell_type": "code",
   "execution_count": 95,
   "metadata": {},
   "outputs": [
    {
     "data": {
      "text/plain": [
       "(61, 3)"
      ]
     },
     "execution_count": 95,
     "metadata": {},
     "output_type": "execute_result"
    }
   ],
   "source": [
    "df.loc[df.price=='$',:].groupby(['restaurant', 'address']).agg({'text': ['count'], 'rating': ['mean', 'std']}).\\\n",
    "sort_values(('text', 'count'), ascending = False).shape"
   ]
  },
  {
   "cell_type": "code",
   "execution_count": 96,
   "metadata": {},
   "outputs": [
    {
     "data": {
      "text/plain": [
       "address       54566\n",
       "date          54566\n",
       "price         54378\n",
       "rating        54566\n",
       "restaurant    54566\n",
       "text          54566\n",
       "dtype: int64"
      ]
     },
     "execution_count": 96,
     "metadata": {},
     "output_type": "execute_result"
    }
   ],
   "source": [
    "df.apply(lambda x: x.count(), axis=0)"
   ]
  },
  {
   "cell_type": "code",
   "execution_count": 103,
   "metadata": {},
   "outputs": [],
   "source": [
    "sample_text = df['text'][50]"
   ]
  },
  {
   "cell_type": "code",
   "execution_count": 104,
   "metadata": {},
   "outputs": [
    {
     "data": {
      "text/plain": [
       "\"Roast is one of my favorite restaurants in the area. I both order and go into the restaurant frequently as I work in the area. It's always great food and the service is very quick/efficient. Would definitely recommend Roast.\""
      ]
     },
     "execution_count": 104,
     "metadata": {},
     "output_type": "execute_result"
    }
   ],
   "source": [
    "sample_text"
   ]
  },
  {
   "cell_type": "code",
   "execution_count": 110,
   "metadata": {},
   "outputs": [],
   "source": [
    "from textblob import TextBlob"
   ]
  },
  {
   "cell_type": "code",
   "execution_count": 111,
   "metadata": {},
   "outputs": [],
   "source": [
    "review = TextBlob(sample_text)"
   ]
  },
  {
   "cell_type": "code",
   "execution_count": 112,
   "metadata": {},
   "outputs": [
    {
     "data": {
      "text/plain": [
       "Sentiment(polarity=0.31999999999999995, subjectivity=0.57)"
      ]
     },
     "execution_count": 112,
     "metadata": {},
     "output_type": "execute_result"
    }
   ],
   "source": [
    "review.sentiment"
   ]
  },
  {
   "cell_type": "code",
   "execution_count": 113,
   "metadata": {},
   "outputs": [
    {
     "data": {
      "text/html": [
       "<div>\n",
       "<style scoped>\n",
       "    .dataframe tbody tr th:only-of-type {\n",
       "        vertical-align: middle;\n",
       "    }\n",
       "\n",
       "    .dataframe tbody tr th {\n",
       "        vertical-align: top;\n",
       "    }\n",
       "\n",
       "    .dataframe thead th {\n",
       "        text-align: right;\n",
       "    }\n",
       "</style>\n",
       "<table border=\"1\" class=\"dataframe\">\n",
       "  <thead>\n",
       "    <tr style=\"text-align: right;\">\n",
       "      <th></th>\n",
       "      <th>address</th>\n",
       "      <th>date</th>\n",
       "      <th>price</th>\n",
       "      <th>rating</th>\n",
       "      <th>restaurant</th>\n",
       "      <th>text</th>\n",
       "    </tr>\n",
       "  </thead>\n",
       "  <tbody>\n",
       "    <tr>\n",
       "      <th>0</th>\n",
       "      <td>27 W 24th St, New York, NY 10010</td>\n",
       "      <td>7/6/2012</td>\n",
       "      <td>$$$</td>\n",
       "      <td>4</td>\n",
       "      <td>Junoon</td>\n",
       "      <td>Very pleased with my gdine purchase and great ...</td>\n",
       "    </tr>\n",
       "    <tr>\n",
       "      <th>1</th>\n",
       "      <td>27 W 24th St, New York, NY 10010</td>\n",
       "      <td>1/6/2012</td>\n",
       "      <td>$$$</td>\n",
       "      <td>5</td>\n",
       "      <td>Junoon</td>\n",
       "      <td>so.....amazing!!  this is the best indian food...</td>\n",
       "    </tr>\n",
       "    <tr>\n",
       "      <th>2</th>\n",
       "      <td>27 W 24th St, New York, NY 10010</td>\n",
       "      <td>2/13/2012</td>\n",
       "      <td>$$$</td>\n",
       "      <td>2</td>\n",
       "      <td>Junoon</td>\n",
       "      <td>We went to Junoon expecting a Michelin starred...</td>\n",
       "    </tr>\n",
       "    <tr>\n",
       "      <th>3</th>\n",
       "      <td>320 Park Ave, New York, NY 10020</td>\n",
       "      <td>7/14/2011</td>\n",
       "      <td>$$</td>\n",
       "      <td>1</td>\n",
       "      <td>Just Salad</td>\n",
       "      <td>This place is so cheap with the toppings!  The...</td>\n",
       "    </tr>\n",
       "    <tr>\n",
       "      <th>4</th>\n",
       "      <td>320 Park Ave, New York, NY 10020</td>\n",
       "      <td>3/19/2014</td>\n",
       "      <td>$$</td>\n",
       "      <td>2</td>\n",
       "      <td>Just Salad</td>\n",
       "      <td>I love the salads here. The quality of product...</td>\n",
       "    </tr>\n",
       "  </tbody>\n",
       "</table>\n",
       "</div>"
      ],
      "text/plain": [
       "                            address       date price  rating  restaurant  \\\n",
       "0  27 W 24th St, New York, NY 10010   7/6/2012   $$$       4      Junoon   \n",
       "1  27 W 24th St, New York, NY 10010   1/6/2012   $$$       5      Junoon   \n",
       "2  27 W 24th St, New York, NY 10010  2/13/2012   $$$       2      Junoon   \n",
       "3  320 Park Ave, New York, NY 10020  7/14/2011    $$       1  Just Salad   \n",
       "4  320 Park Ave, New York, NY 10020  3/19/2014    $$       2  Just Salad   \n",
       "\n",
       "                                                text  \n",
       "0  Very pleased with my gdine purchase and great ...  \n",
       "1  so.....amazing!!  this is the best indian food...  \n",
       "2  We went to Junoon expecting a Michelin starred...  \n",
       "3  This place is so cheap with the toppings!  The...  \n",
       "4  I love the salads here. The quality of product...  "
      ]
     },
     "execution_count": 113,
     "metadata": {},
     "output_type": "execute_result"
    }
   ],
   "source": [
    "df.head()"
   ]
  },
  {
   "cell_type": "code",
   "execution_count": 122,
   "metadata": {
    "scrolled": true
   },
   "outputs": [
    {
     "data": {
      "text/plain": [
       "0          (0.31229538690476194, 0.6649925595238095)\n",
       "1                                      (0.6975, 0.7)\n",
       "2          (0.10147569444444446, 0.5361979166666666)\n",
       "3        (-0.026136363636363624, 0.5818181818181819)\n",
       "4          (0.05421568627450981, 0.4637254901960784)\n",
       "5                          (0.6583333333333333, 0.6)\n",
       "6         (-0.16666666666666666, 0.5416666666666666)\n",
       "7         (0.13999999999999999, 0.45999999999999996)\n",
       "8      (-0.0066666666666666706, 0.32666666666666666)\n",
       "9          (0.16041666666666668, 0.5354166666666667)\n",
       "10                      (-0.056249999999999994, 0.7)\n",
       "11         (0.27152777777777776, 0.6659722222222221)\n",
       "12        (0.05499999999999999, 0.38769230769230767)\n",
       "13        (0.05892857142857143, 0.46428571428571436)\n",
       "14                      (0.36250000000000004, 0.505)\n",
       "15                       (0.14500000000000002, 0.53)\n",
       "16         (0.21241314674908424, 0.5833173076923077)\n",
       "17         (0.18725895316804408, 0.5214187327823692)\n",
       "18         (0.08974358974358972, 0.4871794871794872)\n",
       "19                         (0.8937499999999999, 0.6)\n",
       "20                        (0.2138888888888889, 0.75)\n",
       "21          (0.5866666666666667, 0.6711111111111112)\n",
       "22          (0.3453703703703703, 0.5618518518518519)\n",
       "23                        (0.24583333333333335, 0.5)\n",
       "24                                     (0.575, 0.62)\n",
       "25                       (0.425, 0.6785714285714286)\n",
       "26         (0.11915695415695415, 0.5904234654234654)\n",
       "27          (0.4642857142857143, 0.8214285714285714)\n",
       "28          (0.7339285714285715, 0.8071428571428572)\n",
       "29        (0.12241529047084601, 0.44459809737587513)\n",
       "                           ...                      \n",
       "970        (0.2833333333333333, 0.31111111111111117)\n",
       "971                        (0.2638888888888889, 0.5)\n",
       "972         (0.3485330578512396, 0.6394031221303949)\n",
       "973         (0.11089743589743588, 0.714514652014652)\n",
       "974                   (0.459375, 0.6062500000000001)\n",
       "975          (0.5277777777777778, 0.624074074074074)\n",
       "976         (0.4901041666666667, 0.7395833333333334)\n",
       "977                        (0.5, 0.6666666666666666)\n",
       "978         (0.3416666666666666, 0.4595238095238095)\n",
       "979                                      (0.5, 0.79)\n",
       "980       (0.26168831168831164, 0.39480519480519477)\n",
       "981       (-0.22285714285714278, 0.4652380952380952)\n",
       "982         (0.1314285714285714, 0.5821428571428572)\n",
       "983                      (0.18888888888888888, 0.45)\n",
       "984       (0.053125000000000006, 0.5239583333333334)\n",
       "985        (0.19285714285714287, 0.4571428571428572)\n",
       "986         (0.6916666666666668, 0.7000000000000001)\n",
       "987                       (0.8416666666666667, 0.75)\n",
       "988                       (0.15, 0.6791666666666666)\n",
       "989         (0.7016666666666667, 0.7633333333333333)\n",
       "990                 (0.2015625, 0.39062500000000006)\n",
       "991      (-0.06269841269841267, 0.47804232804232805)\n",
       "992       (0.030695488721804515, 0.4837218045112782)\n",
       "993      (-0.19025641025641024, 0.48923076923076925)\n",
       "994       (0.16863636363636364, 0.44795454545454544)\n",
       "995                   (0.196875, 0.6096153846153847)\n",
       "996        (0.08624999999999998, 0.6500000000000001)\n",
       "997        (0.12371794871794872, 0.6512820512820513)\n",
       "998         (0.2837012987012987, 0.6196103896103895)\n",
       "999        (-0.07782738095238097, 0.622172619047619)\n",
       "Name: text, Length: 1000, dtype: object"
      ]
     },
     "execution_count": 122,
     "metadata": {},
     "output_type": "execute_result"
    }
   ],
   "source": [
    "df.head(1000).text.apply(lambda x: TextBlob(x).sentiment)"
   ]
  },
  {
   "cell_type": "code",
   "execution_count": 123,
   "metadata": {},
   "outputs": [],
   "source": [
    "df_sentiment = df"
   ]
  },
  {
   "cell_type": "code",
   "execution_count": 124,
   "metadata": {},
   "outputs": [],
   "source": [
    "df['sentiment'] = df.text.apply(lambda x: TextBlob(x).sentiment)"
   ]
  },
  {
   "cell_type": "code",
   "execution_count": 150,
   "metadata": {},
   "outputs": [
    {
     "data": {
      "text/html": [
       "<div>\n",
       "<style scoped>\n",
       "    .dataframe tbody tr th:only-of-type {\n",
       "        vertical-align: middle;\n",
       "    }\n",
       "\n",
       "    .dataframe tbody tr th {\n",
       "        vertical-align: top;\n",
       "    }\n",
       "\n",
       "    .dataframe thead th {\n",
       "        text-align: right;\n",
       "    }\n",
       "</style>\n",
       "<table border=\"1\" class=\"dataframe\">\n",
       "  <thead>\n",
       "    <tr style=\"text-align: right;\">\n",
       "      <th></th>\n",
       "      <th>address</th>\n",
       "      <th>date</th>\n",
       "      <th>price</th>\n",
       "      <th>rating</th>\n",
       "      <th>restaurant</th>\n",
       "      <th>text</th>\n",
       "      <th>sentiment</th>\n",
       "      <th>polarity</th>\n",
       "      <th>subjectivity</th>\n",
       "    </tr>\n",
       "  </thead>\n",
       "  <tbody>\n",
       "    <tr>\n",
       "      <th>0</th>\n",
       "      <td>27 W 24th St, New York, NY 10010</td>\n",
       "      <td>7/6/2012</td>\n",
       "      <td>$$$</td>\n",
       "      <td>4</td>\n",
       "      <td>Junoon</td>\n",
       "      <td>Very pleased with my gdine purchase and great ...</td>\n",
       "      <td>(0.31229538690476194, 0.6649925595238095)</td>\n",
       "      <td>0.312295</td>\n",
       "      <td>0.664993</td>\n",
       "    </tr>\n",
       "    <tr>\n",
       "      <th>1</th>\n",
       "      <td>27 W 24th St, New York, NY 10010</td>\n",
       "      <td>1/6/2012</td>\n",
       "      <td>$$$</td>\n",
       "      <td>5</td>\n",
       "      <td>Junoon</td>\n",
       "      <td>so.....amazing!!  this is the best indian food...</td>\n",
       "      <td>(0.6975, 0.7)</td>\n",
       "      <td>0.697500</td>\n",
       "      <td>0.700000</td>\n",
       "    </tr>\n",
       "    <tr>\n",
       "      <th>2</th>\n",
       "      <td>27 W 24th St, New York, NY 10010</td>\n",
       "      <td>2/13/2012</td>\n",
       "      <td>$$$</td>\n",
       "      <td>2</td>\n",
       "      <td>Junoon</td>\n",
       "      <td>We went to Junoon expecting a Michelin starred...</td>\n",
       "      <td>(0.10147569444444446, 0.5361979166666666)</td>\n",
       "      <td>0.101476</td>\n",
       "      <td>0.536198</td>\n",
       "    </tr>\n",
       "    <tr>\n",
       "      <th>3</th>\n",
       "      <td>320 Park Ave, New York, NY 10020</td>\n",
       "      <td>7/14/2011</td>\n",
       "      <td>$$</td>\n",
       "      <td>1</td>\n",
       "      <td>Just Salad</td>\n",
       "      <td>This place is so cheap with the toppings!  The...</td>\n",
       "      <td>(-0.026136363636363624, 0.5818181818181819)</td>\n",
       "      <td>-0.026136</td>\n",
       "      <td>0.581818</td>\n",
       "    </tr>\n",
       "    <tr>\n",
       "      <th>4</th>\n",
       "      <td>320 Park Ave, New York, NY 10020</td>\n",
       "      <td>3/19/2014</td>\n",
       "      <td>$$</td>\n",
       "      <td>2</td>\n",
       "      <td>Just Salad</td>\n",
       "      <td>I love the salads here. The quality of product...</td>\n",
       "      <td>(0.05421568627450981, 0.4637254901960784)</td>\n",
       "      <td>0.054216</td>\n",
       "      <td>0.463725</td>\n",
       "    </tr>\n",
       "  </tbody>\n",
       "</table>\n",
       "</div>"
      ],
      "text/plain": [
       "                            address       date price  rating  restaurant  \\\n",
       "0  27 W 24th St, New York, NY 10010   7/6/2012   $$$       4      Junoon   \n",
       "1  27 W 24th St, New York, NY 10010   1/6/2012   $$$       5      Junoon   \n",
       "2  27 W 24th St, New York, NY 10010  2/13/2012   $$$       2      Junoon   \n",
       "3  320 Park Ave, New York, NY 10020  7/14/2011    $$       1  Just Salad   \n",
       "4  320 Park Ave, New York, NY 10020  3/19/2014    $$       2  Just Salad   \n",
       "\n",
       "                                                text  \\\n",
       "0  Very pleased with my gdine purchase and great ...   \n",
       "1  so.....amazing!!  this is the best indian food...   \n",
       "2  We went to Junoon expecting a Michelin starred...   \n",
       "3  This place is so cheap with the toppings!  The...   \n",
       "4  I love the salads here. The quality of product...   \n",
       "\n",
       "                                     sentiment  polarity  subjectivity  \n",
       "0    (0.31229538690476194, 0.6649925595238095)  0.312295      0.664993  \n",
       "1                                (0.6975, 0.7)  0.697500      0.700000  \n",
       "2    (0.10147569444444446, 0.5361979166666666)  0.101476      0.536198  \n",
       "3  (-0.026136363636363624, 0.5818181818181819) -0.026136      0.581818  \n",
       "4    (0.05421568627450981, 0.4637254901960784)  0.054216      0.463725  "
      ]
     },
     "execution_count": 150,
     "metadata": {},
     "output_type": "execute_result"
    }
   ],
   "source": [
    "df.head()"
   ]
  },
  {
   "cell_type": "code",
   "execution_count": 138,
   "metadata": {},
   "outputs": [
    {
     "data": {
      "text/plain": [
       "Sentiment(polarity=0.31229538690476194, subjectivity=0.6649925595238095)"
      ]
     },
     "execution_count": 138,
     "metadata": {},
     "output_type": "execute_result"
    }
   ],
   "source": [
    "df.sentiment[0]"
   ]
  },
  {
   "cell_type": "code",
   "execution_count": 139,
   "metadata": {},
   "outputs": [],
   "source": [
    "df['polarity'] = df.sentiment.apply(lambda x: x[0])"
   ]
  },
  {
   "cell_type": "code",
   "execution_count": 144,
   "metadata": {},
   "outputs": [],
   "source": [
    "df['subjectivity'] = df.sentiment.apply(lambda x: x[1])"
   ]
  },
  {
   "cell_type": "code",
   "execution_count": 137,
   "metadata": {},
   "outputs": [
    {
     "data": {
      "text/plain": [
       "Sentiment(polarity=0.43151136363636367, subjectivity=0.5406666666666666)"
      ]
     },
     "execution_count": 137,
     "metadata": {},
     "output_type": "execute_result"
    }
   ],
   "source": [
    "df.sentiment[40000]"
   ]
  },
  {
   "cell_type": "code",
   "execution_count": 140,
   "metadata": {},
   "outputs": [
    {
     "data": {
      "text/plain": [
       "<seaborn.axisgrid.FacetGrid at 0x1a34c41c18>"
      ]
     },
     "execution_count": 140,
     "metadata": {},
     "output_type": "execute_result"
    },
    {
     "data": {
      "image/png": "[encoded data removed]",
      "text/plain": [
       "<matplotlib.figure.Figure at 0x1a34c41ba8>"
      ]
     },
     "metadata": {},
     "output_type": "display_data"
    }
   ],
   "source": [
    "sns.lmplot(\"rating\", \"polarity\", df)"
   ]
  },
  {
   "cell_type": "code",
   "execution_count": 142,
   "metadata": {},
   "outputs": [
    {
     "data": {
      "text/plain": [
       "(array([ 3609.,     0.,  3789.,     0.,     0.,  7103.,     0., 16629.,\n",
       "            0., 23436.]),\n",
       " array([1. , 1.4, 1.8, 2.2, 2.6, 3. , 3.4, 3.8, 4.2, 4.6, 5. ]),\n",
       " <a list of 10 Patch objects>)"
      ]
     },
     "execution_count": 142,
     "metadata": {},
     "output_type": "execute_result"
    },
    {
     "data": {
      "image/png": "[encoded data removed]",
      "text/plain": [
       "<matplotlib.figure.Figure at 0x1a36b277f0>"
      ]
     },
     "metadata": {},
     "output_type": "display_data"
    }
   ],
   "source": [
    "plt.hist(df.rating)"
   ]
  },
  {
   "cell_type": "code",
   "execution_count": 143,
   "metadata": {},
   "outputs": [
    {
     "data": {
      "text/plain": [
       "(array([   32.,    70.,   237.,   939.,  4353., 17388., 20352.,  8460.,\n",
       "         2132.,   603.]),\n",
       " array([-1. , -0.8, -0.6, -0.4, -0.2,  0. ,  0.2,  0.4,  0.6,  0.8,  1. ]),\n",
       " <a list of 10 Patch objects>)"
      ]
     },
     "execution_count": 143,
     "metadata": {},
     "output_type": "execute_result"
    },
    {
     "data": {
      "image/png": "[encoded data removed]",
      "text/plain": [
       "<matplotlib.figure.Figure at 0x1a36a95208>"
      ]
     },
     "metadata": {},
     "output_type": "display_data"
    }
   ],
   "source": [
    "plt.hist(df.polarity)"
   ]
  },
  {
   "cell_type": "code",
   "execution_count": 145,
   "metadata": {},
   "outputs": [
    {
     "data": {
      "text/plain": [
       "(array([  205.,   132.,   577.,  2303.,  8830., 18522., 15040.,  6385.,\n",
       "         1868.,   704.]),\n",
       " array([0. , 0.1, 0.2, 0.3, 0.4, 0.5, 0.6, 0.7, 0.8, 0.9, 1. ]),\n",
       " <a list of 10 Patch objects>)"
      ]
     },
     "execution_count": 145,
     "metadata": {},
     "output_type": "execute_result"
    },
    {
     "data": {
      "image/png": "[encoded data removed]",
      "text/plain": [
       "<matplotlib.figure.Figure at 0x1a395c5358>"
      ]
     },
     "metadata": {},
     "output_type": "display_data"
    }
   ],
   "source": [
    "plt.hist(df.subjectivity)"
   ]
  },
  {
   "cell_type": "code",
   "execution_count": 146,
   "metadata": {},
   "outputs": [
    {
     "data": {
      "text/plain": [
       "<seaborn.axisgrid.FacetGrid at 0x1a39457358>"
      ]
     },
     "execution_count": 146,
     "metadata": {},
     "output_type": "execute_result"
    },
    {
     "data": {
      "image/png": "[encoded data removed]",
      "text/plain": [
       "<matplotlib.figure.Figure at 0x1a394579b0>"
      ]
     },
     "metadata": {},
     "output_type": "display_data"
    }
   ],
   "source": [
    "sns.lmplot(\"rating\", \"polarity\", df)"
   ]
  },
  {
   "cell_type": "code",
   "execution_count": 147,
   "metadata": {},
   "outputs": [
    {
     "data": {
      "text/plain": [
       "<seaborn.axisgrid.FacetGrid at 0x1a396fcc18>"
      ]
     },
     "execution_count": 147,
     "metadata": {},
     "output_type": "execute_result"
    },
    {
     "data": {
      "image/png": "[encoded data removed]",
      "text/plain": [
       "<matplotlib.figure.Figure at 0x1a39074c50>"
      ]
     },
     "metadata": {},
     "output_type": "display_data"
    }
   ],
   "source": [
    "sns.lmplot(\"subjectivity\", \"polarity\", df)"
   ]
  },
  {
   "cell_type": "code",
   "execution_count": 148,
   "metadata": {},
   "outputs": [
    {
     "data": {
      "text/html": [
       "<div>\n",
       "<style scoped>\n",
       "    .dataframe tbody tr th:only-of-type {\n",
       "        vertical-align: middle;\n",
       "    }\n",
       "\n",
       "    .dataframe tbody tr th {\n",
       "        vertical-align: top;\n",
       "    }\n",
       "\n",
       "    .dataframe thead th {\n",
       "        text-align: right;\n",
       "    }\n",
       "</style>\n",
       "<table border=\"1\" class=\"dataframe\">\n",
       "  <thead>\n",
       "    <tr style=\"text-align: right;\">\n",
       "      <th></th>\n",
       "      <th>address</th>\n",
       "      <th>date</th>\n",
       "      <th>price</th>\n",
       "      <th>rating</th>\n",
       "      <th>restaurant</th>\n",
       "      <th>text</th>\n",
       "      <th>sentiment</th>\n",
       "      <th>polarity</th>\n",
       "      <th>subjectivity</th>\n",
       "    </tr>\n",
       "  </thead>\n",
       "  <tbody>\n",
       "    <tr>\n",
       "      <th>0</th>\n",
       "      <td>27 W 24th St, New York, NY 10010</td>\n",
       "      <td>7/6/2012</td>\n",
       "      <td>$$$</td>\n",
       "      <td>4</td>\n",
       "      <td>Junoon</td>\n",
       "      <td>Very pleased with my gdine purchase and great ...</td>\n",
       "      <td>(0.31229538690476194, 0.6649925595238095)</td>\n",
       "      <td>0.312295</td>\n",
       "      <td>0.664993</td>\n",
       "    </tr>\n",
       "    <tr>\n",
       "      <th>1</th>\n",
       "      <td>27 W 24th St, New York, NY 10010</td>\n",
       "      <td>1/6/2012</td>\n",
       "      <td>$$$</td>\n",
       "      <td>5</td>\n",
       "      <td>Junoon</td>\n",
       "      <td>so.....amazing!!  this is the best indian food...</td>\n",
       "      <td>(0.6975, 0.7)</td>\n",
       "      <td>0.697500</td>\n",
       "      <td>0.700000</td>\n",
       "    </tr>\n",
       "    <tr>\n",
       "      <th>2</th>\n",
       "      <td>27 W 24th St, New York, NY 10010</td>\n",
       "      <td>2/13/2012</td>\n",
       "      <td>$$$</td>\n",
       "      <td>2</td>\n",
       "      <td>Junoon</td>\n",
       "      <td>We went to Junoon expecting a Michelin starred...</td>\n",
       "      <td>(0.10147569444444446, 0.5361979166666666)</td>\n",
       "      <td>0.101476</td>\n",
       "      <td>0.536198</td>\n",
       "    </tr>\n",
       "    <tr>\n",
       "      <th>3</th>\n",
       "      <td>320 Park Ave, New York, NY 10020</td>\n",
       "      <td>7/14/2011</td>\n",
       "      <td>$$</td>\n",
       "      <td>1</td>\n",
       "      <td>Just Salad</td>\n",
       "      <td>This place is so cheap with the toppings!  The...</td>\n",
       "      <td>(-0.026136363636363624, 0.5818181818181819)</td>\n",
       "      <td>-0.026136</td>\n",
       "      <td>0.581818</td>\n",
       "    </tr>\n",
       "    <tr>\n",
       "      <th>4</th>\n",
       "      <td>320 Park Ave, New York, NY 10020</td>\n",
       "      <td>3/19/2014</td>\n",
       "      <td>$$</td>\n",
       "      <td>2</td>\n",
       "      <td>Just Salad</td>\n",
       "      <td>I love the salads here. The quality of product...</td>\n",
       "      <td>(0.05421568627450981, 0.4637254901960784)</td>\n",
       "      <td>0.054216</td>\n",
       "      <td>0.463725</td>\n",
       "    </tr>\n",
       "  </tbody>\n",
       "</table>\n",
       "</div>"
      ],
      "text/plain": [
       "                            address       date price  rating  restaurant  \\\n",
       "0  27 W 24th St, New York, NY 10010   7/6/2012   $$$       4      Junoon   \n",
       "1  27 W 24th St, New York, NY 10010   1/6/2012   $$$       5      Junoon   \n",
       "2  27 W 24th St, New York, NY 10010  2/13/2012   $$$       2      Junoon   \n",
       "3  320 Park Ave, New York, NY 10020  7/14/2011    $$       1  Just Salad   \n",
       "4  320 Park Ave, New York, NY 10020  3/19/2014    $$       2  Just Salad   \n",
       "\n",
       "                                                text  \\\n",
       "0  Very pleased with my gdine purchase and great ...   \n",
       "1  so.....amazing!!  this is the best indian food...   \n",
       "2  We went to Junoon expecting a Michelin starred...   \n",
       "3  This place is so cheap with the toppings!  The...   \n",
       "4  I love the salads here. The quality of product...   \n",
       "\n",
       "                                     sentiment  polarity  subjectivity  \n",
       "0    (0.31229538690476194, 0.6649925595238095)  0.312295      0.664993  \n",
       "1                                (0.6975, 0.7)  0.697500      0.700000  \n",
       "2    (0.10147569444444446, 0.5361979166666666)  0.101476      0.536198  \n",
       "3  (-0.026136363636363624, 0.5818181818181819) -0.026136      0.581818  \n",
       "4    (0.05421568627450981, 0.4637254901960784)  0.054216      0.463725  "
      ]
     },
     "execution_count": 148,
     "metadata": {},
     "output_type": "execute_result"
    }
   ],
   "source": [
    "df.head()"
   ]
  },
  {
   "cell_type": "code",
   "execution_count": 149,
   "metadata": {},
   "outputs": [
    {
     "ename": "ModuleNotFoundError",
     "evalue": "No module named 'gensim'",
     "output_type": "error",
     "traceback": [
      "\u001b[0;31m-------------------------------------------------------------\u001b[0m",
      "\u001b[0;31mModuleNotFoundError\u001b[0m         Traceback (most recent call last)",
      "\u001b[0;32m<ipython-input-149-e70e92d32c6e>\u001b[0m in \u001b[0;36m<module>\u001b[0;34m()\u001b[0m\n\u001b[0;32m----> 1\u001b[0;31m \u001b[0;32mimport\u001b[0m \u001b[0mgensim\u001b[0m\u001b[0;34m\u001b[0m\u001b[0m\n\u001b[0m",
      "\u001b[0;31mModuleNotFoundError\u001b[0m: No module named 'gensim'"
     ]
    }
   ],
   "source": [
    "import gensim"
   ]
  },
  {
   "cell_type": "code",
   "execution_count": null,
   "metadata": {},
   "outputs": [],
   "source": []
  }
 ],
 "metadata": {
  "kernelspec": {
   "display_name": "Python 3",
   "language": "python",
   "name": "python3"
  },
  "language_info": {
   "codemirror_mode": {
    "name": "ipython",
    "version": 3
   },
   "file_extension": ".py",
   "mimetype": "text/x-python",
   "name": "python",
   "nbconvert_exporter": "python",
   "pygments_lexer": "ipython3",
   "version": "3.6.4"
  }
 },
 "nbformat": 4,
 "nbformat_minor": 2
}
